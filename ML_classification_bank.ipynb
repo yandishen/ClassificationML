{
 "cells": [
  {
   "cell_type": "markdown",
   "id": "e8fc6bce-6890-4ebe-bc53-ba8f0aaed301",
   "metadata": {},
   "source": [
    "# ML Template\n"
   ]
  },
  {
   "cell_type": "code",
   "execution_count": 1,
   "id": "b63826ac-605b-47a4-a46c-f792a331da84",
   "metadata": {},
   "outputs": [],
   "source": [
    "# Libraries\n",
    " \n",
    "from IPython.core.interactiveshell import InteractiveShell\n",
    "InteractiveShell.ast_node_interactivity = \"all\"         \n",
    "\n",
    "import numpy as np\n",
    "import pandas as pd\n",
    "from datetime import date, datetime, timedelta\n",
    "\n",
    "import matplotlib.pyplot as plt\n",
    "import seaborn as sns#; sns.set()\n",
    "sns.set(style=\"darkgrid\")       \n",
    "plt.figure(figsize=(16, 6))\n",
    "%matplotlib inline  \n",
    "\n",
    "#import inflection\n",
    "import pickle\n",
    "\n",
    "from pandas.plotting import register_matplotlib_converters\n",
    "register_matplotlib_converters()"
   ]
  },
  {
   "cell_type": "code",
   "execution_count": 2,
   "id": "5aa35acc-744f-4d01-8ec7-96dbd8bc0666",
   "metadata": {},
   "outputs": [],
   "source": [
    "# sklearn class\n",
    "\n",
    "from collections import Counter\n",
    "\n",
    "from sklearn import model_selection\n",
    "from sklearn.model_selection import train_test_split, StratifiedKFold, cross_val_score\n",
    "\n",
    "from sklearn.experimental import enable_iterative_imputer             # still in experiment\n",
    "from sklearn.impute import SimpleImputer, KNNImputer, IterativeImputer\n",
    "\n",
    "from sklearn.preprocessing import OrdinalEncoder, OneHotEncoder\n",
    "from sklearn.preprocessing import StandardScaler, MinMaxScaler\n",
    "\n",
    "from imblearn.over_sampling import SMOTE\n",
    "\n",
    "from sklearn.feature_selection import SelectKBest, chi2\n",
    "\n",
    "from sklearn.linear_model import LogisticRegression\n",
    "from sklearn.tree import DecisionTreeClassifier\n",
    "from sklearn.neighbors import KNeighborsClassifier\n",
    "from sklearn.discriminant_analysis import LinearDiscriminantAnalysis\n",
    "from sklearn.naive_bayes import GaussianNB\n",
    "from sklearn.svm import SVC"
   ]
  },
  {
   "cell_type": "markdown",
   "id": "ddb34e3e-907e-4c43-891c-53f4d4d56c67",
   "metadata": {},
   "source": [
    "## Data\n",
    "\n",
    "- the Bank Marketing Dataset from Kaggle, to build a model to predict whether someone is going to make a deposit or not depending on some attributes, https://medium.com/analytics-vidhya/building-classification-model-with-python-9bdfc13faa4b\n",
    "- Sometimes the first step is to construct the dependent variable, and this is the so-called \"business understanding\".\n",
    "- Or need to drop unnecessary columns: e.g in the bank example, column \"duration\" is the last contact/phone call duration, in seconds (numeric). This attribute highly affects the output target, yet, the duration is not known before a call is performed. Thus, this input should only be included for benchmark purposes and should be discarded if the intention is to have a realistic predictive model. -- just like the competitor price in our case"
   ]
  },
  {
   "cell_type": "code",
   "execution_count": 3,
   "id": "3d4c5711-5208-43bf-8936-1cec14e6732e",
   "metadata": {},
   "outputs": [
    {
     "data": {
      "text/plain": [
       "(11162, 16)"
      ]
     },
     "execution_count": 3,
     "metadata": {},
     "output_type": "execute_result"
    },
    {
     "data": {
      "text/html": [
       "<div>\n",
       "<style scoped>\n",
       "    .dataframe tbody tr th:only-of-type {\n",
       "        vertical-align: middle;\n",
       "    }\n",
       "\n",
       "    .dataframe tbody tr th {\n",
       "        vertical-align: top;\n",
       "    }\n",
       "\n",
       "    .dataframe thead th {\n",
       "        text-align: right;\n",
       "    }\n",
       "</style>\n",
       "<table border=\"1\" class=\"dataframe\">\n",
       "  <thead>\n",
       "    <tr style=\"text-align: right;\">\n",
       "      <th></th>\n",
       "      <th>age</th>\n",
       "      <th>job</th>\n",
       "      <th>marital</th>\n",
       "      <th>education</th>\n",
       "      <th>default</th>\n",
       "      <th>balance</th>\n",
       "      <th>housing</th>\n",
       "      <th>loan</th>\n",
       "      <th>contact</th>\n",
       "      <th>day</th>\n",
       "      <th>month</th>\n",
       "      <th>campaign</th>\n",
       "      <th>pdays</th>\n",
       "      <th>previous</th>\n",
       "      <th>poutcome</th>\n",
       "      <th>deposit</th>\n",
       "    </tr>\n",
       "  </thead>\n",
       "  <tbody>\n",
       "    <tr>\n",
       "      <th>0</th>\n",
       "      <td>59</td>\n",
       "      <td>admin.</td>\n",
       "      <td>married</td>\n",
       "      <td>secondary</td>\n",
       "      <td>no</td>\n",
       "      <td>2343</td>\n",
       "      <td>yes</td>\n",
       "      <td>no</td>\n",
       "      <td>unknown</td>\n",
       "      <td>5</td>\n",
       "      <td>may</td>\n",
       "      <td>1</td>\n",
       "      <td>-1</td>\n",
       "      <td>0</td>\n",
       "      <td>unknown</td>\n",
       "      <td>yes</td>\n",
       "    </tr>\n",
       "    <tr>\n",
       "      <th>1</th>\n",
       "      <td>56</td>\n",
       "      <td>admin.</td>\n",
       "      <td>married</td>\n",
       "      <td>secondary</td>\n",
       "      <td>no</td>\n",
       "      <td>45</td>\n",
       "      <td>no</td>\n",
       "      <td>no</td>\n",
       "      <td>unknown</td>\n",
       "      <td>5</td>\n",
       "      <td>may</td>\n",
       "      <td>1</td>\n",
       "      <td>-1</td>\n",
       "      <td>0</td>\n",
       "      <td>unknown</td>\n",
       "      <td>yes</td>\n",
       "    </tr>\n",
       "    <tr>\n",
       "      <th>2</th>\n",
       "      <td>41</td>\n",
       "      <td>technician</td>\n",
       "      <td>married</td>\n",
       "      <td>secondary</td>\n",
       "      <td>no</td>\n",
       "      <td>1270</td>\n",
       "      <td>yes</td>\n",
       "      <td>no</td>\n",
       "      <td>unknown</td>\n",
       "      <td>5</td>\n",
       "      <td>may</td>\n",
       "      <td>1</td>\n",
       "      <td>-1</td>\n",
       "      <td>0</td>\n",
       "      <td>unknown</td>\n",
       "      <td>yes</td>\n",
       "    </tr>\n",
       "    <tr>\n",
       "      <th>3</th>\n",
       "      <td>55</td>\n",
       "      <td>services</td>\n",
       "      <td>married</td>\n",
       "      <td>secondary</td>\n",
       "      <td>no</td>\n",
       "      <td>2476</td>\n",
       "      <td>yes</td>\n",
       "      <td>no</td>\n",
       "      <td>unknown</td>\n",
       "      <td>5</td>\n",
       "      <td>may</td>\n",
       "      <td>1</td>\n",
       "      <td>-1</td>\n",
       "      <td>0</td>\n",
       "      <td>unknown</td>\n",
       "      <td>yes</td>\n",
       "    </tr>\n",
       "    <tr>\n",
       "      <th>4</th>\n",
       "      <td>54</td>\n",
       "      <td>admin.</td>\n",
       "      <td>married</td>\n",
       "      <td>tertiary</td>\n",
       "      <td>no</td>\n",
       "      <td>184</td>\n",
       "      <td>no</td>\n",
       "      <td>no</td>\n",
       "      <td>unknown</td>\n",
       "      <td>5</td>\n",
       "      <td>may</td>\n",
       "      <td>2</td>\n",
       "      <td>-1</td>\n",
       "      <td>0</td>\n",
       "      <td>unknown</td>\n",
       "      <td>yes</td>\n",
       "    </tr>\n",
       "  </tbody>\n",
       "</table>\n",
       "</div>"
      ],
      "text/plain": [
       "   age         job  marital  education default  balance housing loan  contact  \\\n",
       "0   59      admin.  married  secondary      no     2343     yes   no  unknown   \n",
       "1   56      admin.  married  secondary      no       45      no   no  unknown   \n",
       "2   41  technician  married  secondary      no     1270     yes   no  unknown   \n",
       "3   55    services  married  secondary      no     2476     yes   no  unknown   \n",
       "4   54      admin.  married   tertiary      no      184      no   no  unknown   \n",
       "\n",
       "   day month  campaign  pdays  previous poutcome deposit  \n",
       "0    5   may         1     -1         0  unknown     yes  \n",
       "1    5   may         1     -1         0  unknown     yes  \n",
       "2    5   may         1     -1         0  unknown     yes  \n",
       "3    5   may         1     -1         0  unknown     yes  \n",
       "4    5   may         2     -1         0  unknown     yes  "
      ]
     },
     "execution_count": 3,
     "metadata": {},
     "output_type": "execute_result"
    }
   ],
   "source": [
    "# df = pd.read_excel('data/student_absence.xlsx')\n",
    "\n",
    "df = pd.read_csv('https://raw.githubusercontent.com/rafiag/DTI2020/main/data/bank.csv')\n",
    "df.drop(columns='duration', inplace=True)\n",
    "df.shape\n",
    "df.head()"
   ]
  },
  {
   "cell_type": "markdown",
   "id": "ada20357-99ee-4ccd-bd60-2a88c226435e",
   "metadata": {},
   "source": [
    "## EDA\n",
    "\n",
    "Visualize our data in order to get a quick glimpse of what we have in our hands:\n",
    "- check data is balanced or imbalanced for classification problem\n",
    "- check the most important explaining factors\n",
    "- boxplot, histogram, scatterplot"
   ]
  },
  {
   "cell_type": "code",
   "execution_count": 4,
   "id": "d0ae3744-bbef-489e-be34-e5f19c4c9f1e",
   "metadata": {},
   "outputs": [
    {
     "data": {
      "text/plain": [
       "no     0.52616\n",
       "yes    0.47384\n",
       "Name: deposit, dtype: float64"
      ]
     },
     "execution_count": 4,
     "metadata": {},
     "output_type": "execute_result"
    }
   ],
   "source": [
    "df['deposit'].value_counts(normalize=True)\n",
    "\n",
    "# df['absence'].value_counts().plot(kind='bar')       # same color for 2 classes\n",
    "# sns.countplot(df[\"absence\"])            # future warning\n",
    "\n",
    "# sns.countplot(x=\"deposit\", data=df)"
   ]
  },
  {
   "cell_type": "code",
   "execution_count": 5,
   "id": "d37de0b1-b9fb-4252-b064-cebbb610f5d3",
   "metadata": {},
   "outputs": [
    {
     "data": {
      "text/html": [
       "<div>\n",
       "<style scoped>\n",
       "    .dataframe tbody tr th:only-of-type {\n",
       "        vertical-align: middle;\n",
       "    }\n",
       "\n",
       "    .dataframe tbody tr th {\n",
       "        vertical-align: top;\n",
       "    }\n",
       "\n",
       "    .dataframe thead th {\n",
       "        text-align: right;\n",
       "    }\n",
       "</style>\n",
       "<table border=\"1\" class=\"dataframe\">\n",
       "  <thead>\n",
       "    <tr style=\"text-align: right;\">\n",
       "      <th>loan</th>\n",
       "      <th>no</th>\n",
       "      <th>yes</th>\n",
       "    </tr>\n",
       "    <tr>\n",
       "      <th>deposit</th>\n",
       "      <th></th>\n",
       "      <th></th>\n",
       "    </tr>\n",
       "  </thead>\n",
       "  <tbody>\n",
       "    <tr>\n",
       "      <th>no</th>\n",
       "      <td>4897</td>\n",
       "      <td>976</td>\n",
       "    </tr>\n",
       "    <tr>\n",
       "      <th>yes</th>\n",
       "      <td>4805</td>\n",
       "      <td>484</td>\n",
       "    </tr>\n",
       "  </tbody>\n",
       "</table>\n",
       "</div>"
      ],
      "text/plain": [
       "loan       no  yes\n",
       "deposit           \n",
       "no       4897  976\n",
       "yes      4805  484"
      ]
     },
     "execution_count": 5,
     "metadata": {},
     "output_type": "execute_result"
    }
   ],
   "source": [
    "# crosstab(): absence by track\n",
    "pd.crosstab(df['deposit'], df['loan'])"
   ]
  },
  {
   "cell_type": "code",
   "execution_count": 6,
   "id": "84ed5f9b-4184-414d-8ab5-2679932f753e",
   "metadata": {},
   "outputs": [
    {
     "data": {
      "text/plain": [
       "count    11162.000000\n",
       "mean      1528.538524\n",
       "std       3225.413326\n",
       "min      -6847.000000\n",
       "25%        122.000000\n",
       "50%        550.000000\n",
       "75%       1708.000000\n",
       "max      81204.000000\n",
       "Name: balance, dtype: float64"
      ]
     },
     "execution_count": 6,
     "metadata": {},
     "output_type": "execute_result"
    },
    {
     "data": {
      "text/plain": [
       "<AxesSubplot:xlabel='balance'>"
      ]
     },
     "execution_count": 6,
     "metadata": {},
     "output_type": "execute_result"
    },
    {
     "data": {
      "image/png": "[encoded data removed]",
      "text/plain": [
       "<Figure size 432x288 with 1 Axes>"
      ]
     },
     "metadata": {
      "needs_background": "light"
     },
     "output_type": "display_data"
    }
   ],
   "source": [
    "# balance has a highly-skewed distribution and negative values (thus cannot do log-transformation)\n",
    "\n",
    "df.balance.describe()\n",
    "sns.boxplot(x=df[\"balance\"])"
   ]
  },
  {
   "cell_type": "markdown",
   "id": "eb10fdc6-81c5-4d05-abc7-7a25d2a28fdc",
   "metadata": {},
   "source": [
    "<font color=purple>Histogram, Measure of Shape: Skewness and Kurtosis</font>\n",
    "- https://brownmath.com/stat/shape.htm\n",
    "- histogram\n",
    "- If the bulk of the data is at the left (the peak is toward the left) and the right tail is longer, we say that the distribution is **skewed right or positively skewed**;\n",
    "- Skewness: thresholds [-1, -1/2, 0, 1/2, 1], if skewness is less than −1 or greater than +1, the distribution is highly skewed; moderately skewed, approximately symmetric; if skewness=0, perfectly symmetrical.\n",
    "- Kurtosis: Higher values indicate a higher, sharper peak; lower values indicate a lower, less distinct peak. A normal distribution, which has a kurtosis of 3. "
   ]
  },
  {
   "cell_type": "code",
   "execution_count": 7,
   "id": "2b3357c5-8c86-439c-b6a9-dcbb809ab87e",
   "metadata": {},
   "outputs": [
    {
     "data": {
      "text/plain": [
       "[Text(0.5, 1.0, 'original data')]"
      ]
     },
     "execution_count": 7,
     "metadata": {},
     "output_type": "execute_result"
    },
    {
     "data": {
      "text/plain": [
       "[Text(0.5, 1.0, 'log-transformed data')]"
      ]
     },
     "execution_count": 7,
     "metadata": {},
     "output_type": "execute_result"
    },
    {
     "data": {
      "image/png": "[encoded data removed]",
      "text/plain": [
       "<Figure size 1080x360 with 2 Axes>"
      ]
     },
     "metadata": {
      "needs_background": "light"
     },
     "output_type": "display_data"
    }
   ],
   "source": [
    "# distribution side-by-side, histogram\n",
    "\n",
    "fig, axes = plt.subplots(1, 2, figsize=(15, 5))\n",
    "\n",
    "sns.histplot(data=df, x=\"age\", kde=True, hue=\"housing\", ax=axes[0]).set(title='original data')       \n",
    "\n",
    "sns.histplot(np.log(df['age']), kde=True, ax=axes[1]).set(title='log-transformed data')\n",
    "#sns.histplot(np.sqrt(df['undergrad_gpa']), kde=True, ax=axes[2]).set(title='sqrt-transformed data')\n",
    "#Add a kernel density estimate to smooth the histogram\n",
    "\n",
    "plt.show()\n"
   ]
  },
  {
   "cell_type": "code",
   "execution_count": 8,
   "id": "86d5e498-00ea-4880-9a0f-a20d6e531421",
   "metadata": {},
   "outputs": [
    {
     "name": "stdout",
     "output_type": "stream",
     "text": [
      "The skewness of the original data: 0.8627796373814871\n",
      "The skewness of the log-transformed data: 0.20494778690287216\n",
      "\n",
      "The kurtosis of the original data: 0.6215402926955051\n",
      "The kurtosis of the log-transformed data: -0.4534472059697654\n"
     ]
    }
   ],
   "source": [
    "print(f'The skewness of the original data:', df['age'].skew())\n",
    "print(f'The skewness of the log-transformed data:', np.log(df['age']).skew()) \n",
    "\n",
    "print('')\n",
    "\n",
    "print(f'The kurtosis of the original data:', df['age'].kurtosis())\n",
    "print(f'The kurtosis of the log-transformed data:', np.log(df['age']).kurtosis())"
   ]
  },
  {
   "cell_type": "code",
   "execution_count": null,
   "id": "db678b5e-f1d9-484d-b2c9-dbf1c87b2b6b",
   "metadata": {},
   "outputs": [],
   "source": []
  },
  {
   "cell_type": "markdown",
   "id": "3964b32c-7878-47e9-b19c-f878ff9adadf",
   "metadata": {},
   "source": [
    "## Pre-Processing\n",
    "\n",
    "SCIEM: **an Order of Operations for Data Preprocessing** - _Doing these in the right order will speed up the process by minimizing errors_\n",
    "\n",
    "1. Split: train-test split -- <font color=blue>Do this first before any preprocessing </font>\n",
    "2. Clean: miscellaneous cleaning, incl. removing duplicates and outliers\n",
    "3. Impute: imputing missing values\n",
    "4. Encode and Scale\n",
    "    - Encode for categorical data\n",
    "    - Scale, normalize, transform numeric data as needed (_When use MinMax Normalization, 0/1 dummy variables can also be included_)\n",
    "    - Balance refers to correcting class imbalance\n",
    "5. Feature Selection"
   ]
  },
  {
   "cell_type": "markdown",
   "id": "d17e96cf-b1b3-4c93-8fc5-da8016f7e077",
   "metadata": {},
   "source": [
    "### One-Hot-Encoding / Dummy Variables\n",
    "\n",
    "- **Label Encoding** (Integer Encoding, Ordinal Encoding): convert categorical variable M/F into numerical 0/1 or 4 states into 0/1/2/3. But there is an **issue/limitation** of label encoding: - the integer values have a natural ordered relationship between each other, this may lead to the generation of priority issues in the training of data sets. A label with a high value may be considered to have high priority than a label having a lower value. \n",
    "\n",
    "- **One-Hot Encoding**: To deal with the above issue we will use One-Hot Encoding technique. This is where the integer encoded variable is removed and a new **binary variable** is added for each unique integer value. The binary variables are often called **\"dummy variable\"** in other fields such as statistics. \n",
    "\n",
    "    - The one-hot encoding creates one binary variable for each category. The problem is that this representation includes redundancy. This is the so-called **dummy variable trap**, which can be fixed by drop one. (_Dropping one binary variable essentially trying to avoid multicollinearity._) \n",
    "\n",
    "\n",
    "```\n",
    "# with sklearn\n",
    "from sklearn.preprocessing import OrdinalEncoder, OneHotEncoder, LabelEncoder\n",
    "# encoder = LabelEncoder()\n",
    "encoder = OneHotEncoder(drop='first', sparse=False)\n",
    "onehot = encoder.fit_transform(data)\n",
    "\n",
    "# with pandas\n",
    "data_encoded = pd.get_dummies(data, columns = ['State', 'Gender'])\n",
    "```\n",
    "\n",
    "<font color=purple>Why doing encoding first, before train_test_split?</font>\n",
    "\n",
    "_In the example of 2U, there are less number of states in test data, and will generate different number of dummies variables and thus error in feature scaling when using X_train to train scaler and fit scaler with X_test. So we shall do encoding first, there will not \"data leak\"._"
   ]
  },
  {
   "cell_type": "code",
   "execution_count": 9,
   "id": "1a8b1d46-dbd0-4eb6-956c-4bf4482de696",
   "metadata": {},
   "outputs": [
    {
     "data": {
      "text/plain": [
       "array(['yes', 'no'], dtype=object)"
      ]
     },
     "execution_count": 9,
     "metadata": {},
     "output_type": "execute_result"
    },
    {
     "data": {
      "text/plain": [
       "array([1, 0])"
      ]
     },
     "execution_count": 9,
     "metadata": {},
     "output_type": "execute_result"
    }
   ],
   "source": [
    "# for deposit kind of columns, have easier methods than LabelEncoder()\n",
    "\n",
    "df['deposit'].unique()\n",
    "df['deposit'] = np.where(df['deposit']=='yes', 1, 0)\n",
    "df['deposit'].unique()\n",
    "\n",
    "# df['deposite'] = df['deposit'].apply(lambda x: 1 if x == 'yes' else 0)"
   ]
  },
  {
   "cell_type": "code",
   "execution_count": 10,
   "id": "7dfeb4bc-2598-4a0a-aea9-a60c8fcaa539",
   "metadata": {},
   "outputs": [
    {
     "data": {
      "text/plain": [
       "['admin.', 'blue-collar', 'entrepreneur', 'housemaid', 'management']"
      ]
     },
     "execution_count": 10,
     "metadata": {},
     "output_type": "execute_result"
    },
    {
     "data": {
      "text/plain": [
       "(11162, 42)"
      ]
     },
     "execution_count": 10,
     "metadata": {},
     "output_type": "execute_result"
    },
    {
     "data": {
      "text/plain": [
       "11"
      ]
     },
     "execution_count": 10,
     "metadata": {},
     "output_type": "execute_result"
    }
   ],
   "source": [
    "# create dummy variables and drop one\n",
    "# pd.get_dummies() will automatically drop the original categorical column\n",
    "\n",
    "sorted(df[\"job\"].unique().tolist())[0:5]\n",
    "\n",
    "cat_cols = ['job', 'marital', 'education', 'default', 'housing', 'loan', 'contact', 'month', 'poutcome']\n",
    "df = pd.get_dummies(df, columns=cat_cols, drop_first=True)           \n",
    "\n",
    "df.shape\n",
    "\n",
    "len([col for col in df.columns if 'job' in col])\n",
    "\n",
    "# df.head(3)"
   ]
  },
  {
   "cell_type": "code",
   "execution_count": null,
   "id": "8d26336c-fce7-4e1e-8434-5aa751142aa4",
   "metadata": {},
   "outputs": [],
   "source": []
  },
  {
   "cell_type": "markdown",
   "id": "54fedc4b-0d1f-4e0a-8905-e44882d6cf8f",
   "metadata": {},
   "source": [
    "### Train-Test Split\n",
    "\n",
    "The train-test split procedure is a fast and easy procedure to perform, the results of which allow you to compare the performance of machine learning algorithms for your predictive modeling problem. Use training data for \"model learning\" and test data for \"model validation\".\n",
    "\n",
    "```\n",
    "X_train, X_test, y_train, y_test = train_test_split(X, y, test_size=0.2, random_state=123, \n",
    "                                                    stratify=y, shuffle=True)\n",
    "```\n",
    "\n",
    "Things require your attention:\n",
    "- <font color=blue>It's best practice to split the training and test data before manipulating the data in any way.</font> This prevents **data leakage**, which is when information from the test data is used to train the model. \n",
    "\n",
    "- Wisely use **'stratify' parameter**: especially useful when working around classification problems (particularly with imbalance classes), since if we don't provide this parameter we may end with a non-representative distribution of our target classes in our test group.\n",
    "\n",
    "- **Shuffle** your data when needed: say our dataset is composed of 1000 students, of which the first 500 correspond to males, and the last 500 are females. If we did not add ```shuffle=True```, we will end up getting train data with 500 males and 300 females, and test data with 200 females.\n",
    "\n",
    "- **Splitting by Indices**: It may so happen that you need to split 3 datasets into train and test sets, and of course, the splits should be similar. There is an elegant solution - to split by the indices of the dataset so that we can get the indices of the train and test set separately. \n",
    "\n",
    "```\n",
    "all_indices=list(range(len(df)))\n",
    "train_indices, test_indices = train_test_split(all_indices, test_size=0.2)\n",
    "train = df.iloc[train_indices, :]\n",
    "test = df.iloc[test_indices, :]\n",
    "```"
   ]
  },
  {
   "cell_type": "code",
   "execution_count": 11,
   "id": "dbdd4068-72d3-4c1c-9bfd-57cbff55c7d1",
   "metadata": {},
   "outputs": [],
   "source": [
    "from sklearn.model_selection import train_test_split\n",
    "\n",
    "y = df.deposit\n",
    "X = df.drop('deposit', axis=1)"
   ]
  },
  {
   "cell_type": "code",
   "execution_count": 12,
   "id": "0926b9a9-0ce2-4f46-8239-bbf40c316e1e",
   "metadata": {},
   "outputs": [
    {
     "name": "stdout",
     "output_type": "stream",
     "text": [
      "Train dataset: (8929, 41) (8929,)\n",
      "Test dataset: (2233, 41) (2233,)\n"
     ]
    },
    {
     "data": {
      "text/plain": [
       "0    0.526151\n",
       "1    0.473849\n",
       "Name: deposit, dtype: float64"
      ]
     },
     "execution_count": 12,
     "metadata": {},
     "output_type": "execute_result"
    },
    {
     "data": {
      "text/plain": [
       "0    0.526198\n",
       "1    0.473802\n",
       "Name: deposit, dtype: float64"
      ]
     },
     "execution_count": 12,
     "metadata": {},
     "output_type": "execute_result"
    }
   ],
   "source": [
    "X_train, X_test, y_train, y_test = train_test_split(X, y, test_size=0.2, random_state=0, stratify=y, shuffle=True)\n",
    "\n",
    "print(\"Train dataset:\", X_train.shape, y_train.shape)\n",
    "print(\"Test dataset:\", X_test.shape, y_test.shape)\n",
    "\n",
    "# percentage of each class\n",
    "y_train.value_counts(normalize=True)\n",
    "y_test.value_counts(normalize=True)"
   ]
  },
  {
   "cell_type": "code",
   "execution_count": null,
   "id": "b453b2d2-a214-4d15-9b63-f9ce983c3eb7",
   "metadata": {},
   "outputs": [],
   "source": []
  },
  {
   "cell_type": "markdown",
   "id": "4a59a648-21d9-4f70-a105-955439948b64",
   "metadata": {},
   "source": [
    "### Cleaning\n",
    "\n",
    "This may include a variety of operations such as:\n",
    "- drop columns that are not applicable\n",
    "- remove duplicates\n",
    "- remove rows based on filtered criteria\n",
    "- remove outliers\n",
    "- remove erroneous values\n",
    "- change datatypes\n",
    "- split up or combine data in string format\n",
    "- bin (coverting a feature into groups, e.g. age_group)\n",
    "- feature aggregation\n",
    "- discretization"
   ]
  },
  {
   "cell_type": "markdown",
   "id": "742a8868-159f-4f58-8ee1-573ec8f0815e",
   "metadata": {},
   "source": [
    "#### Duplicates\n",
    "\n",
    "Pandas ```duplicated()``` and ```drop_duplicates()``` methods to find and remove duplicates\n",
    "\n",
    "```\n",
    "df.duplicated(subset=['student_id']).sum()\n",
    "du.loc[df.duplicated(), :]\n",
    "df.drop_duplicates(subset=None, keep='first')\n",
    "```"
   ]
  },
  {
   "cell_type": "code",
   "execution_count": 13,
   "id": "181f7a87-5a40-4787-a8d6-fe7d4f06756e",
   "metadata": {},
   "outputs": [
    {
     "data": {
      "text/plain": [
       "0"
      ]
     },
     "execution_count": 13,
     "metadata": {},
     "output_type": "execute_result"
    }
   ],
   "source": [
    "# in our case, student_id should be unique, but check it anyway\n",
    "\n",
    "X_train.duplicated().sum()"
   ]
  },
  {
   "cell_type": "markdown",
   "id": "dcdd7729-443f-48fe-b401-5d6975abc489",
   "metadata": {
    "tags": []
   },
   "source": [
    "#### Outliers\n",
    "\n",
    "\n",
    "**How to handle outliers?**\n",
    "\n",
    "- Investigation: They can be legitimate observations and it’s important to investigate the nature of the outlier before deciding whether to drop it or not. <font color=blue>Be caution against removing outliers until you have identified the root cause of those outliers.</font>\n",
    "- Remove: drop them if it is obvious that the outlier is due to incorrectly entered or measured data; based on Z-score or IQR score\n",
    "- Transformation: can apply square root or log transformations, that will pull in high numbers\n",
    "- Try a different model / ML algorithm which is not sensitive to outliers like Support Vector Machines (SVM). (_But SVM requires a large amount of time to process for larger dataset._)\n",
    "\n",
    "**Interquartile Range (IQR) = Q3 - Q1**\n",
    "- Boxplot: A plot to show the spread and centers of a data set; graphically display the five-number summary: min, Q1, median, Q3, max\n",
    "    - _For the variability, remember that half your data for each group falls within the interquartile box. The longer the box and whiskers, the greater the variability of the distribution. The total length of the whiskers represents the range of the data._\n",
    "    - _To determine whether a distribution is skewed, look at where the data fall compared to the median. For symmetric distributions, the length of the box and whiskers on both sides of the median should be approximately equal. If the two sides are not roughly equivalent, your distribution is skewed._\n",
    "    \n",
    "- Remove outliers based on IQR:\n",
    "\n",
    "```\n",
    "cols = [col1, col2]        # can be one or more columns\n",
    "Q1 = X_train[cols].quantile(0.25)\n",
    "Q3 = X_train[cols].quantile(0.75)\n",
    "IQR = Q3 - Q1\n",
    "\n",
    "mask = (X_train[cols] < (Q1 - 1.5 * IQR)) | (X_train[cols] > (Q3 + 1.5 * IQR))\n",
    "X_train = X_train[~(mask).any(axis=1)]\n",
    "\n",
    "# get the index for rows meet condition / been deleted\n",
    "# idx = X_train.index[mask.any(axis=1)].tolist()\n",
    "\n",
    "```\n",
    "\n",
    "\n",
    "**Z-score**\n",
    "\n",
    "> The Z-score is the signed number of standard deviations by which the value of an observation or data point is above the mean value of what is being observed or measured. While calculating the Z-score we re-scale and center the data and look for data points which are too far from zero. These data points which are way too far from zero will be treated as the outliers. \n",
    "\n",
    "- Remove outliers based on z-score: in most of the cases a threshold of 3 or -3 is used\n",
    "\n",
    "```\n",
    "# Z-score, when all the columns are numerical\n",
    "\n",
    "from scipy import stats\n",
    "\n",
    "z = np.abs(stats.zscore(boston_df))\n",
    "threshold = 3\n",
    "boston_df_o = boston_df_o[(z < 3).all(axis=1)]              \n",
    "boston_df_o.shape\n",
    "```\n"
   ]
  },
  {
   "cell_type": "markdown",
   "id": "50900983-11ad-486c-8af7-7120f53ce7f3",
   "metadata": {},
   "source": [
    "```\n",
    "X_train['balance'].describe()\n",
    "\n",
    "# sns.boxplot(x=X_train['undergrad_gpa'])   \n",
    "\n",
    "# breakdown by gender\n",
    "sns.boxplot(x='deposit', y='balance', data=df)\n",
    "```"
   ]
  },
  {
   "cell_type": "code",
   "execution_count": 14,
   "id": "2a2bd082-40c8-4f4c-b9fb-f5665da9c701",
   "metadata": {},
   "outputs": [
    {
     "name": "stdout",
     "output_type": "stream",
     "text": [
      "Q1: age    32.0\n",
      "Name: 0.25, dtype: float64\n"
     ]
    },
    {
     "data": {
      "text/html": [
       "<div>\n",
       "<style scoped>\n",
       "    .dataframe tbody tr th:only-of-type {\n",
       "        vertical-align: middle;\n",
       "    }\n",
       "\n",
       "    .dataframe tbody tr th {\n",
       "        vertical-align: top;\n",
       "    }\n",
       "\n",
       "    .dataframe thead th {\n",
       "        text-align: right;\n",
       "    }\n",
       "</style>\n",
       "<table border=\"1\" class=\"dataframe\">\n",
       "  <thead>\n",
       "    <tr style=\"text-align: right;\">\n",
       "      <th></th>\n",
       "      <th>age</th>\n",
       "    </tr>\n",
       "  </thead>\n",
       "  <tbody>\n",
       "    <tr>\n",
       "      <th>2536</th>\n",
       "      <td>False</td>\n",
       "    </tr>\n",
       "    <tr>\n",
       "      <th>8283</th>\n",
       "      <td>False</td>\n",
       "    </tr>\n",
       "    <tr>\n",
       "      <th>10439</th>\n",
       "      <td>False</td>\n",
       "    </tr>\n",
       "  </tbody>\n",
       "</table>\n",
       "</div>"
      ],
      "text/plain": [
       "         age\n",
       "2536   False\n",
       "8283   False\n",
       "10439  False"
      ]
     },
     "execution_count": 14,
     "metadata": {},
     "output_type": "execute_result"
    },
    {
     "name": "stdout",
     "output_type": "stream",
     "text": [
      "[2809, 6227, 3530, 7941, 2709, 3194, 3486, 1373, 3546, 6478]\n"
     ]
    },
    {
     "data": {
      "text/plain": [
       "(8929, 41)"
      ]
     },
     "execution_count": 14,
     "metadata": {},
     "output_type": "execute_result"
    },
    {
     "data": {
      "text/plain": [
       "(8799, 41)"
      ]
     },
     "execution_count": 14,
     "metadata": {},
     "output_type": "execute_result"
    },
    {
     "data": {
      "text/plain": [
       "(8929,)"
      ]
     },
     "execution_count": 14,
     "metadata": {},
     "output_type": "execute_result"
    },
    {
     "data": {
      "text/plain": [
       "(8799,)"
      ]
     },
     "execution_count": 14,
     "metadata": {},
     "output_type": "execute_result"
    }
   ],
   "source": [
    "# remove outliers for column age and undergrad_gpa\n",
    "\n",
    "cols = ['age']           \n",
    "# one or more columns, but 'balance' is really skewed, a lot of data will be removed if using IQR method\n",
    "\n",
    "Q1 = X_train[cols].quantile(0.25)\n",
    "print(\"Q1:\", Q1)                          # return a number for each column\n",
    "Q3 = X_train[cols].quantile(0.75)\n",
    "IQR = Q3 - Q1\n",
    "\n",
    "mask = (X_train[cols] < (Q1 - 1.5 * IQR)) | (X_train[cols] > (Q3 + 1.5 * IQR))\n",
    "mask.head(3)\n",
    "\n",
    "# get the index for rows meet condition / been deleted\n",
    "idx = X_train.index[mask.any(axis=1)].tolist()\n",
    "print(idx[0:10])\n",
    "\n",
    "X_train.shape\n",
    "X_train = X_train[~(mask).any(axis=1)]\n",
    "X_train.shape                             \n",
    "\n",
    "# but y_train still have \"full\" data points -- drop rows based on index\n",
    "y_train.shape\n",
    "y_train = y_train.drop(idx)\n",
    "y_train.shape"
   ]
  },
  {
   "cell_type": "code",
   "execution_count": null,
   "id": "cf5f3087-4137-45c6-b4f4-7a104797e3eb",
   "metadata": {},
   "outputs": [],
   "source": []
  },
  {
   "cell_type": "markdown",
   "id": "f1979c3a-be8e-4820-a9a5-2bb6da0edcaf",
   "metadata": {},
   "source": [
    "### Missing Values\n",
    "\n",
    "<font color=blue>The sklearn implementation of ML algorithms don't support the presence of the missing values. And imputing missing value has to be done before encoding because the encoders do not like NaN's.</font>\n",
    "\n",
    "**7 Ways to Handle Missing Values in ML**\n",
    "\n",
    "- Investigation: Missing could be Not at Random, e.g. data missing indicate they are not an engaged customer; In this case removing observations with missing values can produce a bias in the model.\n",
    "\n",
    "- Delete rows or columns with (a lot) missing values. However, this will cause problems if 1) data size is small, or 2) they are not randomly missing.\n",
    "\n",
    "- Impute missing values for continuous variable: mean, median or mode of the remaining values in the column; _but his method can cause data leakage and do not factor the covariance between features._\n",
    "\n",
    "- Impute NaN for categorical variable: the most frequent category; if the number of NaN is very large then it can be replaced with a new category like 'others' (_but addition of new features to the model while encoding, which may result in poor performance_).\n",
    "\n",
    "- Other imputation methods: methods depending on the nature of the data or data type, e.g. for the data variable having longitudinal behavior, it might make sense to use the last valid observation to fill the missing value. Or for the time-series dataset variable, it makes sense to use the interpolation of the variable before and after a timestamp for a missing value. \n",
    "\n",
    "```\n",
    "df[\"age\"] = df[\"age\"].fillna(method='ffill', limit=1)\n",
    "df[\"age\"] = df[\"age\"].interpolate(method='linear', limit_direction='forward', axis=0)\n",
    "```\n",
    "\n",
    "- Using algorithms that support missing values: All the ML algorithms don't support missing values but some ML algorithms are robust to missing values in the dataset (K-NN, Naive Bayes, RandomForest).\n",
    "\n",
    "- Predictition of missing values: the regression or classification model can be used for the prediction of missing values depending on the nature (categorical or continuous) of the feature having NaN, using other features which don't having NaN. For example, predict income with education, occupation, gender and age.\n",
    "\n",
    "\n",
    "**Sklearn** \n",
    "- SimpleImputer class\n",
    "- Going beyond, KNN Imputer and Iterative Imputer class\n",
    "\n",
    "```\n",
    "# with Scikit Imputer\n",
    "from sklearn.preprocessing import Imputer\n",
    "imputer = Imputer(missing_values='NaN', strategy='mean', axis=0)\n",
    "imputer = imputer.fit(X[:, 1:3])\n",
    "X[:, 1:3] = imputer.transform(X[:, 1:3])\n",
    "\n",
    "# fancy KNN Imputer\n",
    "imputer = KNNImputer(n_neighbors=2)\n",
    "imputer.fit_transform(X)\n",
    "```"
   ]
  },
  {
   "cell_type": "markdown",
   "id": "be9045a3-7128-4104-963a-9ade5e140969",
   "metadata": {},
   "source": [
    "```\n",
    "# missing values\n",
    "X_train[['gender', 'state']] = X_train[['gender', 'state']].fillna('Other')\n",
    "\n",
    "# undergrad_gpa\n",
    "median_gpa = X_train['undergrad_gpa'].median()\n",
    "X_train['undergrad_gpa'] = X_train['undergrad_gpa'].fillna(median_gpa)      \n",
    "\n",
    "# test dataset - impute with value from train dataset\n",
    "X_test[['gender', 'state']] = X_test[['gender', 'state']].fillna('Other')\n",
    "X_test['undergrad_gpa'] = X_test['undergrad_gpa'].fillna(median_gpa) \n",
    "```"
   ]
  },
  {
   "cell_type": "code",
   "execution_count": null,
   "id": "3cfad70c-7cf8-4f2b-9c5c-2d568ef92644",
   "metadata": {},
   "outputs": [],
   "source": []
  },
  {
   "cell_type": "markdown",
   "id": "1d61f0e3-d862-4d03-8bf8-147df611e2c4",
   "metadata": {},
   "source": [
    "### Feature Transformation\n",
    "To give the right shape to our dataset – **Gaussian like / normal distribution**, use skewness and kurtosis\n",
    "> In many statistical techniques, we assume that the errors are normally distributed. This assumption allows us to construct confidence intervals and conduct hypothesis tests. By transforming your target variable, we can (hopefully) normalize our errors (if they are not already normal). Additionally, transforming our variables can improve the predictive power of our models because transformations can cut away white noise.\n",
    "\n",
    "- **Log transformation** or Square root transformation: Sometimes log transformation cannot help make data more normal, so try different methods and compare the results\n",
    "- **Power transformation, BoxCox**: difficult to interpret; the Box-Cox transformation usually gives the median of the forecast distribution when we revert the transformed data to its original scale.\n",
    "- Binning, binarizing and arbitrary transformations\n"
   ]
  },
  {
   "cell_type": "code",
   "execution_count": null,
   "id": "979cbc08-c48a-46e6-90fc-8990736916db",
   "metadata": {},
   "outputs": [],
   "source": []
  },
  {
   "cell_type": "markdown",
   "id": "691d4360-c862-4795-bdb9-064839f4b1f5",
   "metadata": {},
   "source": [
    "### Feature Scaling\n",
    "\n",
    "**Feature Scaling** is a technique of bringing down the values of all the independent features of our dataset on the same scale. \n",
    "If we didn't do feature scaling then the machine learning model gives higher weightage to higher values and lower weightage to lower values. Also, takes a lot of time for training the machine learning model.\n",
    "\n",
    "**Why should we use feature scaling?**\n",
    "- ML algorithms like linear regression, logistic regression, neural network, etc, that use gradient descent as an optimization technique require data to be scaled. Take a look at the formula for gradient descent, the presence of feature value X in the formula will affect the step size of the gradient descent; Having features on a similar scale can halpe the gradient descent converge more quickly towards the minima.\n",
    "\n",
    "- Distance-based algorithms like KNN, K-means, and SVM are most affected by the range of features. This is because behind the scenes they are using distances between data points to determine their similarity. For example, a data containing GPA and salary, since both the features have different scales, there is a chance that higher weightage is given to features with higher magnitude (ie. algorithm to be biassed towards one feature). -- the Euclidean distance will be more comparable after we applied scaling.\n",
    "\n",
    "- Tree-based algorithms, on the other hand, are fairly insensitive to the scale of the features.\n",
    "\n",
    "\n",
    "**Feature scaling techniques** \n",
    "- **Normalization**: also known as min-max scaling or **min-max normalization**, it is the simplest method and consists of rescaling the range of features to scale **the range [0, 1]**.  (_Normalization is a scaling technique in which values are shifted and rescaled so that they end up ranging between 0 and 1._)\n",
    "$$x' = \\frac{x - min(x)}{max(x) - min(x)}$$\n",
    "\n",
    "- **Standardization**: makes the values of each feature in the data have zero mean and unit variance. The general method of calculation is to determine the distribution mean and standard deviation for each feature and calculate the new data point by the following formula: (_Standardization is another scaling technique where the values are centered around the mean with a unit standard deviation. Note that in this case, the values are not restricted to a particular range._)\n",
    "$$x' = \\frac{x- \\bar{x}}{\\sigma}$$\n",
    "\n",
    "- **Scaling to unit length**: The aim of this method is to scale the components of a feature vector such that the complete vector has length one. This usually means dividing each component by the Euclidean length of the vector:\n",
    "$$x' = \\frac{x}{||x||}$$, where $||x||$ is the Euclidean length of the feature vector\n",
    "\n",
    "- **Robust Scalar**: is one of the best scaling techniques when we have **outliers** present in our dataset.\n",
    "$$x' = \\frac{x - x_m}{IQR}$$\n",
    "where $X_m$ means 'median of X', the interquartile range IQR = 75 Quartile - 25 Quartile\n",
    "\n",
    "- **Gaussian Transformation**: when our dataset doesn't follow Gaussian / Normal distribution (Bell Curve) then we use Gaussian transformation. Types of Gaussian Transformation include Log Transformation, Reciprocal Transformation, Square Root Transformation, Exponential Transformation, Box-Cox Transformation.\n",
    "\n",
    "**The million-dollar question: normalization or standardization?** \n",
    "\n",
    "While there is no obvious answer to this question, it really depends on the application, there are still a few generalizations that can be drawn.\n",
    "\n",
    "- Normalization is good to use when the distribution of data does not follow a Gaussian distribution. It can be useful in algorithms that do not assume any distribution of the data like K-Nearest Neighbors.\n",
    "\n",
    "- In Neural Networks algorithm that require data on a 0–1 scale, normalization is an essential pre-processing step. Another popular example of data normalization is image processing, where pixel intensities have to be normalized to fit within a certain range (i.e., 0 to 255 for the RGB color range).\n",
    "\n",
    "- Standardization can be helpful in cases where the data follows a Gaussian distribution. Though this does not have to be necessarily true. Since standardization does not have a bounding range, so, even if there are outliers in the data, they will not be affected by standardization.\n",
    "\n",
    "- In clustering analyses, standardization comes in handy to compare similarities between features based on certain distance measures. Another prominent example is the **Principal Component Analysis (PCA)**, where we usually prefer standardization over Min-Max scaling since we are interested in the components that maximize the variance.\n",
    "\n",
    "There are some points which can be considered while deciding whether we need Standardization or Normalization\n",
    "\n",
    "- Standardization may be used when data represent **Gaussian Distribution**, while Normalization is great with Non-Gaussian Distribution\n",
    "- Impact of **Outliers** is very high in Normalization\n",
    "\n",
    "**To conclude, you can always start by fitting your model to raw, normalized, and standardized data and compare the performance for the best results.**\n",
    "\n",
    "\n",
    "_**It is a good practice to:**_\n",
    "- fit the scaler on the training data and then use it to transform the testing data. This would avoid any data leakage during the model testing process. \n",
    "- Also, the scaling of target values is generally not required. \n",
    "- Lastly, apply standardization only on numerical features, but normalization on both numerical and one-hot encoded features. _-- but I remember it is said StandardScaler is chosen over MinMaxScalar by some reason_\n"
   ]
  },
  {
   "cell_type": "markdown",
   "id": "85dd1000-c883-4354-a307-e4b7b3e7d38c",
   "metadata": {},
   "source": [
    "```\n",
    "# use MinMaxScaler for simplicity here \n",
    "\n",
    "from sklearn.preprocessing import MinMaxScaler\n",
    "\n",
    "norm = MinMaxScaler().fit(X_train)\n",
    "X_train_smote_norm = norm.transform(X_train_smote)\n",
    "X_test_norm = norm.transform(X_test)\n",
    "```"
   ]
  },
  {
   "cell_type": "code",
   "execution_count": 15,
   "id": "653f560b-c43c-4ec7-aa53-f497690561b5",
   "metadata": {},
   "outputs": [
    {
     "name": "stderr",
     "output_type": "stream",
     "text": [
      "C:\\Users\\yshen\\Anaconda3\\lib\\site-packages\\pandas\\core\\frame.py:3607: SettingWithCopyWarning: \n",
      "A value is trying to be set on a copy of a slice from a DataFrame.\n",
      "Try using .loc[row_indexer,col_indexer] = value instead\n",
      "\n",
      "See the caveats in the documentation: https://pandas.pydata.org/pandas-docs/stable/user_guide/indexing.html#returning-a-view-versus-a-copy\n",
      "  self._set_item(key, value)\n"
     ]
    }
   ],
   "source": [
    "from sklearn.preprocessing import StandardScaler\n",
    "\n",
    "# Feature scaling should not incl. dummy variables\n",
    "# num_df = df.select_dtypes(exclude='object')           # do this before creating dummy variables\n",
    "# X_train.select_dtypes(include='float64').columns.tolist()        # since dummy variables is \"uint8\"\n",
    "\n",
    "num_cols = ['age', 'balance', 'day', 'campaign', 'pdays', 'previous'] \n",
    "\n",
    "std_scaler = StandardScaler().fit(X_train[num_cols])\n",
    "X_train[num_cols] = std_scaler.transform(X_train[num_cols])\n",
    "\n",
    "X_test[num_cols] = std_scaler.transform(X_test[num_cols])"
   ]
  },
  {
   "cell_type": "code",
   "execution_count": null,
   "id": "c15b7e4c-32c0-4a74-9f2e-8aed6e91859b",
   "metadata": {},
   "outputs": [],
   "source": []
  },
  {
   "cell_type": "markdown",
   "id": "b5b70b07-452f-4506-b144-e063fc3f998f",
   "metadata": {},
   "source": [
    "### Imbalanced Data\n",
    "\n",
    "Standard ML techniques such as Decision Tree and Logistic Regression **have a bias towards the majority class, and they tend to ignore the minority class**, if we have imbalanced data distribution in our dataset.\n",
    "\n",
    "<font color=blue>should do most pre-processing steps (encoding, normalization/standardization, etc) before under/over-sampling the data.</font>\n",
    "> This is because many sampling techniques require a simple model to be trained (e.g. SMOTE uses a k-NN algorithm to generate samples, ClusteringCentroids under-sampling technique involves k-means clustering). These models have better performance on pre-processed datasets (e.g. both k-NN and k-means use euclidean distance, which requires the data to be normalized).\n",
    "\n",
    "**8 Tactics to Combat Imbalanced Classes** in Your Machine Learning Dataset\n",
    "\n",
    "- Collect more data\n",
    "- Change performance metric: instead of the traditional classification **Accuracy**, consider:\n",
    "     - Confusion Matrix: A table showing correct predictions and types of incorrect predictions\n",
    "     - Precision: the number of true positives divided by all positive predictions. Precision is also called Positive Predictive Value. It is a measure of a classifier’s exactness. Low precision indicates a high number of false positives (Type I error).\n",
    "     $$P = \\frac{TP}{TP + FP}$$\n",
    "     - Recall: the number of true positives divided by the number of positive values in the test data. The recall is also called Sensitivity or the True Positive Rate. It is a measure of a classifier’s completeness. Low recall indicates a high number of false negatives (Type II error).\n",
    "     $$R = \\frac{TP}{TP + FN}$$\n",
    "     - F1 Score: a weighted average of precision and recall\n",
    "     $$F1 = \\frac{2(P * R)}{P + R}$$\n",
    "     - ROC Curve (receiver operating characteristic curve) and ACU (Area under ROC Curve): An ROC curve plots True Positive Rate vs. False Positive Rate at different classification thresholds (e.g. the threshold commonly used is 0.5). Lowering the classification threshold classifies more items as positive, thus increasing both False Positives and True Positives. AUC represents the likelihood of your model distinguishing observations from two classes. \n",
    "     \n",
    "- Resample your dataset\n",
    "\n",
    "    - over-sampling (sampling with replacement):\n",
    "    - under-sampling\n",
    "    - consider testing random and non-random (e.g. stratified) sampling schemes\n",
    "    - consider testing different resampled ratios (e.g. target other ratios instead of 1:1 ratio in a binary classification problem)\n",
    "    \n",
    "    \n",
    "- Try generate synthetic samples: There are systematic algorithms that you can use to generate synthetic samples. The most popular of such algorithms is called **SMOTE** or the **Synthetic Minority Over-sampling Technique**. \n",
    "\n",
    "- Try different algorithms: should at least spot-checking a variety of different types of algorithms on a given problem; for example, decision trees often perform well on imbalanced datasets (_The splitting rules that look at the class variable used in the creation of the trees, can force both classes to be addressed_).\n",
    "\n",
    "- Try panelized models (cost-sensitive training): Penalized classification imposes an additional cost on the model for making classification mistakes on the minority class during training. There are penalized versions of algorithms such as penalized-SVM and penalized-LDA. Using penalization is desirable if you are locked into a specific algorithm and are unable to resample or you’re getting poor results. ```svc_model = SVC(class_weight='balanced', probability=True)```\n"
   ]
  },
  {
   "cell_type": "markdown",
   "id": "9d3b9f0c-83eb-42e3-8fbf-cb9900ad3f4a",
   "metadata": {},
   "source": [
    "#### **SMOTE**\n",
    "\n",
    "SMOTE is an intelligent alternative to oversampling: rather than creating duplicates of the minority class, it creates synthetic data points that are relatively similar to the original ones. \n",
    "\n",
    "Under the hood, the SMOTE algorithm works in 4 simple steps:\n",
    "1. Choose a minority class input vector\n",
    "2. Find its k nearest neighbors (k_neighbors is specified as an argument in the SMOTE() function)\n",
    "3. Choose one of these neighbors and place a synthetic point anywhere on the line joining the point under consideration and its chosen neighbor\n",
    "4. Repeat the steps until data is balanced\n",
    "\n",
    "Use SMOTE, your model will start detecting more cases of the minority class, which will result in **an increased recall, but a decrease precision**. The decision of a whether this is wanted behavior will always be depending on your business case.\n",
    "\n",
    "<font color=blue>Only do resampling on train data</font>\n",
    "> Essentially applying SMOTE makes the job easier for the model: SMOTE generates artificial instances which tend to have the same properties as each other, so it's easier for the model to capture their patterns. However these instances are rarely a good representative sample for the minority class, so there's a higher risk that the model overfits. Of course if SMOTE is also applied to the test set, the model appears to perform better. This is the equivalent of changing a difficult question to an easier one in order to answer the question better."
   ]
  },
  {
   "cell_type": "code",
   "execution_count": 16,
   "id": "2e4f1e89-6c43-467c-8538-08b8525a26aa",
   "metadata": {},
   "outputs": [
    {
     "name": "stdout",
     "output_type": "stream",
     "text": [
      "Original dataset shape Counter({0: 4672, 1: 4127})\n",
      "Resample dataset shape Counter({1: 4672, 0: 4672})\n"
     ]
    }
   ],
   "source": [
    "from imblearn.over_sampling import SMOTE\n",
    "from collections import Counter\n",
    "\n",
    "smote = SMOTE(random_state = 42)\n",
    "X_train_smote, y_train_smote = smote.fit_resample(X_train, y_train)\n",
    "\n",
    "print('Original dataset shape', Counter(y_train))\n",
    "print('Resample dataset shape', Counter(y_train_smote))"
   ]
  },
  {
   "cell_type": "code",
   "execution_count": null,
   "id": "e29fbd80-fe63-4a16-8472-e29407dab214",
   "metadata": {},
   "outputs": [],
   "source": []
  },
  {
   "cell_type": "markdown",
   "id": "010e36c7-1c51-4c84-be87-84b9ce4082cc",
   "metadata": {},
   "source": [
    "### Feature Selection\n",
    "<font color=blue>Feature selection that involves narrowing down features manually based on domain knowledge should happen before all of these steps as part of data understanding. Feature selection using algorithms should happen after preprocessing. </font>\n",
    "\n",
    "**Why Feature Selection?**\n",
    "- Curse of dimensionality - overfitting\n",
    "- Occam's razor: we want our models to be simple and explainable\n",
    "- Garbage in garbage out: when we have many non-informative features\n",
    "- A large number of features make a model bulky, time-taking, and harder to implement in production\n",
    "\n",
    "Let me summarize the importance of feature selection for you:\n",
    "- It enables the machine learning algorithm to train faster.\n",
    "- It reduces the complexity of a model and makes it easier to interpret.\n",
    "- It improves the accuracy of a model if the right subset is chosen.\n",
    "- It reduces Overfitting.\n",
    "\n",
    "**So What do we do?**\n",
    "\n",
    "We select only useful features. Most feature selection methods can be divided into 3 major buckets:\n",
    "- **Filter Method**: specify some metric and based on that filter features\n",
    "    - Pearson Correlation: check the absolute value of the Pearson's correlation between the target and numerical features in our dataset. We keep the top n features based on this criterion.\n",
    "    - Chi-Squared: calculate the chi-square metric btw the target and the numerical variable and only select the variable with the maximum chi-squared values. \n",
    "    - ```chi_selector = SelectKBest(chi2, k='all')```\n",
    "    \n",
    "- **Wrapper Method**: wrapper methods consider the selection of a set of features as a search problem.\n",
    "    - Backward Elimination, Forward Selection, Bidirectional Elimination\n",
    "    - Recursive Feature Elimination (RFE): from sklearn documentation:\n",
    "    > Given an external estimator that assigns weights to features (e.g., the coefficients of a linear model), the goal of recursive feature elimination (RFE) is to select features by recursively considering smaller and smaller sets of features. First, the estimator is trained on the initial set of features and the importance of each feature is obtained either through any specific attribute or callable. Then, the least important features are pruned from current set of features. That procedure is recursively repeated on the pruned set until the desired number of features to select is eventually reached.\n",
    "\n",
    "- **Embedded Method**: embedded methods use algorithms that have built-in feature selection methods.\n",
    "    - Lasso: Lasso regression uses L1 norm as regularizer, and unlike Ridge regression, Lasso Regularizer forces a lot of feature weights to be zero. -- _still use LogisticRegression but with penalty argument, ```LogisticRegression(penalty=\"l1\")```_\n",
    "    - Tree-based: use RandomForest to select features based on feature importance. We calcuate feature importance using node impurities in each decision tree. In Random forest, the final feature importance is the average of all decision tree feature importance. (_Similar code, only change the selector part to ```embeded_rf_selector=SelectFromModel(RandomForestClassifier(n_estimators=100), max_features=num_feats)```_) We could also have used a LightGBM, or an XBBoost object as long it has a ```feature_importances_```attributes.\n",
    "\n",
    "\n",
    "**Conclusion: - which method to choose?**\n",
    "\n",
    "Following points will help you make this decision:\n",
    "- Filter method is less accurate. It is great while doing EDA, it can also be used for checking multi co-linearity in data.\n",
    "- Wrapper and Embedded methods give more accurate results but as they are computationally expensive, these method are suited when you have lesser features (~20).\n",
    "\n",
    "\n",
    "**Difference between dimensionality reduction and feature selection**\n",
    "\n",
    "> Sometimes, feature selection is mistaken with dimensionality reduction. But they are different. Feature selection is different from dimensionality reduction. Both methods tend to reduce the number of attributes in the dataset, but a dimensionality reduction method does so by creating new combinations of attributes (sometimes known as feature transformation), whereas feature selection methods include and exclude attributes present in the data without changing them. \n",
    "Some examples of dimensionality reduction methods are Principal Component Analysis, Singular Value Decomposition, Linear Discriminant Analysis, etc.\n",
    "\n",
    "\n",
    "**Feature Selection for Categorical Variables**\n",
    "\n",
    "The two most commonly used feature selection methods for categorical input data when the target variable is also categorical (e.g. classification predictive modeling) are the **chi-squared statistic** and the **mutual information statistic**.\n"
   ]
  },
  {
   "cell_type": "markdown",
   "id": "2fe8bda3-1022-47d5-bb17-265a4b119d39",
   "metadata": {},
   "source": [
    "```\n",
    "from sklearn.feature_selection import SelectKBest\n",
    "from sklearn.feature_selection import chi2\n",
    "\n",
    "# k features with highest chi-squared statistics are selected\n",
    "chi_selector = SelectKBest(chi2, k=8)             # k=num_feats\n",
    "chi_selector.fit(X_train_std_smote, y_train_smote)\n",
    "\n",
    "chi_support = chi_selector.get_support()           # True or False\n",
    "chi_support\n",
    "\n",
    "print(chi_selector.get_support().sum(), 'selected features')\n",
    "\n",
    "selected_feature = X_train.columns[(chi_selector.get_support())]\n",
    "selected_feature\n",
    "\n",
    "# 1) I don't know which value for k\n",
    "# 2) the result is quite different from SelectFromModel(RandomForest)\n",
    "```"
   ]
  },
  {
   "cell_type": "code",
   "execution_count": 17,
   "id": "7810fb2a-2c31-477a-ba78-91dfd64eebb5",
   "metadata": {},
   "outputs": [
    {
     "data": {
      "text/plain": [
       "SelectFromModel(estimator=LogisticRegression(C=1, penalty='l1',\n",
       "                                             solver='liblinear'))"
      ]
     },
     "execution_count": 17,
     "metadata": {},
     "output_type": "execute_result"
    },
    {
     "name": "stdout",
     "output_type": "stream",
     "text": [
      "N of features selected: 39\n"
     ]
    },
    {
     "data": {
      "text/plain": [
       "Index(['age', 'balance', 'day', 'campaign', 'pdays', 'previous',\n",
       "       'job_blue-collar', 'job_entrepreneur', 'job_housemaid',\n",
       "       'job_management', 'job_retired', 'job_self-employed', 'job_services',\n",
       "       'job_student', 'job_technician', 'job_unemployed', 'job_unknown',\n",
       "       'marital_married', 'marital_single', 'education_secondary',\n",
       "       'education_tertiary', 'housing_yes', 'loan_yes', 'contact_telephone',\n",
       "       'contact_unknown', 'month_aug', 'month_dec', 'month_feb', 'month_jan',\n",
       "       'month_jul', 'month_jun', 'month_mar', 'month_may', 'month_nov',\n",
       "       'month_oct', 'month_sep', 'poutcome_other', 'poutcome_success',\n",
       "       'poutcome_unknown'],\n",
       "      dtype='object')"
      ]
     },
     "execution_count": 17,
     "metadata": {},
     "output_type": "execute_result"
    }
   ],
   "source": [
    "from sklearn.feature_selection import SelectFromModel\n",
    "from sklearn.linear_model import LogisticRegression\n",
    "from sklearn.ensemble import RandomForestClassifier\n",
    "\n",
    "embeded_selector = SelectFromModel(LogisticRegression(C=1, penalty=\"l1\", solver='liblinear'))  \n",
    "# , max_features=num_feats\n",
    "# ValueError: Solver lbfgs supports only 'l2' or 'none' penalties, got l1 penalty.\n",
    "\n",
    "#embeded_selector = SelectFromModel(RandomForestClassifier(n_estimators = 100))\n",
    "\n",
    "embeded_selector.fit(X_train_smote, y_train_smote)\n",
    "\n",
    "embeded_support = embeded_selector.get_support()\n",
    "print('N of features selected:', embeded_selector.get_support().sum())\n",
    "\n",
    "embeded_feature = X_train.columns[(embeded_selector.get_support())]\n",
    "embeded_feature\n",
    "\n",
    "# AttributeError: 'numpy.ndarray' object has no attribute 'columns'\n",
    "# X_train_smote_norm is np.ndarray, but X_train is still pd.DataFrame, type(X_train_smote_norm)\n",
    "# --> when I only do feature scaling on num_cols, there is no such problem"
   ]
  },
  {
   "cell_type": "markdown",
   "id": "2dbcfed3-c02d-4402-bf30-bb271dd583ea",
   "metadata": {},
   "source": [
    "#### RFE \n",
    "\n",
    "**Recursive Feature Elimination**\n",
    "\n",
    "Refer to here, https://machinelearningmastery.com/rfe-feature-selection-in-python/\n",
    "\n",
    "Practical tips:\n",
    "- As we would have guessed, we could use any estimator with the RFE method. In this case, we use ```LogisticRegression```, and the RFE observes the ```coef_``` attribute of the ```LogisticRegression``` object.\n",
    "- ```n_features_to_select``` is arbitrary value --> need to find the optimum number of features, for which the accuracy is the highest"
   ]
  },
  {
   "cell_type": "markdown",
   "id": "31e672fd-4303-4f63-8988-eab9da1b9580",
   "metadata": {},
   "source": [
    "```\n",
    "from sklearn.feature_selection import RFE\n",
    "from sklearn.linear_model import LogisticRegression\n",
    "\n",
    "rfe_selector = RFE(estimator=LogisticRegression(), n_features_to_select=20, step=10, verbose=5)\n",
    "rfe_selector.fit(X_train_smote, y_train_smote)\n",
    "\n",
    "rfe_selector.support_\n",
    "rfe_selector.ranking_\n",
    "\n",
    "rfe_support = rfe_selector.get_support()\n",
    "rfe_feature = X_train.loc[:, rfe_support].columns.tolist()\n",
    "\n",
    "print(str(len(rfe_feature)), 'selected features')\n",
    "embeded_rf_feature = X_train.columns[(rfe_selector.get_support())] \n",
    "embeded_rf_feature\n",
    "# the result is completely different from embeded_rf_selector above\n",
    "```"
   ]
  },
  {
   "cell_type": "markdown",
   "id": "945246dd-30e8-433d-a5ad-1aa7660cc09d",
   "metadata": {},
   "source": [
    "<font color=purple>RFE always give non-sense result, why? </font>\n",
    "    \n",
    "_Like here in the bank example, all the important variables are elimiated, the variables left are all dummy variables._"
   ]
  },
  {
   "cell_type": "code",
   "execution_count": null,
   "id": "3c057f2d-ff09-4eee-a875-140e5d8a5f4c",
   "metadata": {
    "tags": []
   },
   "outputs": [],
   "source": []
  },
  {
   "cell_type": "markdown",
   "id": "8d8a8b23-5d07-451e-99e3-f46deaa662d7",
   "metadata": {},
   "source": [
    "### Multicollinearty\n",
    "\n",
    "Detecting multicollinearity using **VIF - Variance Inflation Factor**\n",
    "\n",
    "> VIF determines the strength of the correlation between the independent variables. It is predicted by taking a variable and regressing it against every other variable. Or, _VIF score of an independent variable represents how well the variable is explained by other independent variables._\n",
    "\n",
    "$$VIF = \\frac{1}{1-R^2}$$\n",
    "How to read the result?\n",
    "- VIF starts at 1 and has no upper limit\n",
    "- VIF = 1, no correlation between the independent variable and the other variables\n",
    "- VIF exceeding 5 or 10 indicates high multicollinearity between this independent variable and the others\n",
    "\n",
    "**Why is multicollinearity not checked in modern ML?**\n",
    "\n",
    "> The reason is because the goals of \"traditional statistics\" are different from many Machine Learning techniques. Multicollinearity screw with coefficient estimates, but doesn't change the predictive power of the model. Traditional statistical models care about interpretability, but modern ML cares more about prediction."
   ]
  },
  {
   "cell_type": "markdown",
   "id": "0dd98bb7-c68b-4dc3-950e-94836f019edb",
   "metadata": {},
   "source": [
    "```\n",
    "cor = df.corr()\n",
    "sns.heatmap(cor, annot=True)\n",
    "```"
   ]
  },
  {
   "cell_type": "code",
   "execution_count": 18,
   "id": "f4e19ded-c127-4675-bd01-80e090c9e93e",
   "metadata": {},
   "outputs": [
    {
     "data": {
      "text/html": [
       "<div>\n",
       "<style scoped>\n",
       "    .dataframe tbody tr th:only-of-type {\n",
       "        vertical-align: middle;\n",
       "    }\n",
       "\n",
       "    .dataframe tbody tr th {\n",
       "        vertical-align: top;\n",
       "    }\n",
       "\n",
       "    .dataframe thead th {\n",
       "        text-align: right;\n",
       "    }\n",
       "</style>\n",
       "<table border=\"1\" class=\"dataframe\">\n",
       "  <thead>\n",
       "    <tr style=\"text-align: right;\">\n",
       "      <th></th>\n",
       "      <th>Variable</th>\n",
       "      <th>VIF_Score</th>\n",
       "    </tr>\n",
       "  </thead>\n",
       "  <tbody>\n",
       "    <tr>\n",
       "      <th>0</th>\n",
       "      <td>age</td>\n",
       "      <td>1.841255</td>\n",
       "    </tr>\n",
       "    <tr>\n",
       "      <th>1</th>\n",
       "      <td>balance</td>\n",
       "      <td>1.041158</td>\n",
       "    </tr>\n",
       "    <tr>\n",
       "      <th>2</th>\n",
       "      <td>day</td>\n",
       "      <td>1.260581</td>\n",
       "    </tr>\n",
       "    <tr>\n",
       "      <th>3</th>\n",
       "      <td>campaign</td>\n",
       "      <td>1.101701</td>\n",
       "    </tr>\n",
       "    <tr>\n",
       "      <th>4</th>\n",
       "      <td>pdays</td>\n",
       "      <td>2.866533</td>\n",
       "    </tr>\n",
       "    <tr>\n",
       "      <th>5</th>\n",
       "      <td>previous</td>\n",
       "      <td>1.647491</td>\n",
       "    </tr>\n",
       "    <tr>\n",
       "      <th>6</th>\n",
       "      <td>job_blue-collar</td>\n",
       "      <td>2.368597</td>\n",
       "    </tr>\n",
       "    <tr>\n",
       "      <th>7</th>\n",
       "      <td>job_entrepreneur</td>\n",
       "      <td>1.278619</td>\n",
       "    </tr>\n",
       "  </tbody>\n",
       "</table>\n",
       "</div>"
      ],
      "text/plain": [
       "           Variable  VIF_Score\n",
       "0               age   1.841255\n",
       "1           balance   1.041158\n",
       "2               day   1.260581\n",
       "3          campaign   1.101701\n",
       "4             pdays   2.866533\n",
       "5          previous   1.647491\n",
       "6   job_blue-collar   2.368597\n",
       "7  job_entrepreneur   1.278619"
      ]
     },
     "execution_count": 18,
     "metadata": {},
     "output_type": "execute_result"
    }
   ],
   "source": [
    "from statsmodels.stats.outliers_influence import variance_inflation_factor as vif\n",
    "\n",
    "def calc_vif(X):\n",
    "    vif_table = pd.DataFrame()\n",
    "    vif_table[\"Variable\"] = X.columns\n",
    "    vif_table[\"VIF_Score\"] = [vif(X.values, i) for i in range(X.shape[1])]\n",
    "    return vif_table\n",
    "\n",
    "result = calc_vif(X_train)\n",
    "result.head(8)\n",
    "# why age and undergrad_gpa has such high values?"
   ]
  },
  {
   "cell_type": "code",
   "execution_count": null,
   "id": "ddc4770a-e8e3-4101-992c-69541d7b43b7",
   "metadata": {},
   "outputs": [],
   "source": []
  },
  {
   "cell_type": "markdown",
   "id": "db57d1d0-52ac-4cf1-8bbf-e2a5e0b93637",
   "metadata": {},
   "source": [
    "## Modeling"
   ]
  },
  {
   "cell_type": "markdown",
   "id": "b4b70d33-2bba-4ec4-843b-85d08f32212b",
   "metadata": {},
   "source": [
    "### Model Comparison\n",
    "\n",
    "https://machinelearningmastery.com/compare-machine-learning-algorithms-python-scikit-learn/\n",
    "\n",
    "<font color=blue>The key to a fair comparison of machine learning algorithms is ensuring that each algorithm is evaluated in the same way on the same data.</font>\n",
    "\n",
    "Listed 4 commonly-used models for a binary classification problem, their advantages and disadvantages, and a helper function to evaluate each trained model with commonly used metrics.\n",
    "- Decision Tree\n",
    "- Random Foreast\n",
    "- Gaussian Naive Bayes\n",
    "- K-Nearest Neighbours\n",
    "\n",
    "Other common algorithms\n",
    "- Logistic Regression\n",
    "- Support Vector Machines\n",
    "- Linear Discriminant Analysis\n",
    "- Classification and Regression Trees (CART)"
   ]
  },
  {
   "cell_type": "code",
   "execution_count": 19,
   "id": "90062558-9216-4454-bc51-5cbdee1c6536",
   "metadata": {},
   "outputs": [],
   "source": [
    "def evaluate_model(model, x_test, y_test):\n",
    "    from sklearn import metrics\n",
    "    \n",
    "    # predict\n",
    "    y_pred = model.predict(x_test)\n",
    "    \n",
    "    # calculate accuracy, precision, reccall, and f1-score\n",
    "    acc = metrics.accuracy_score(y_test, y_pred)\n",
    "    prec = metrics.precision_score(y_test, y_pred)\n",
    "    rec = metrics.recall_score(y_test, y_pred)\n",
    "    f1 = metrics.f1_score(y_test, y_pred)\n",
    "    \n",
    "    # calcualte Area Under Curve (AUC)\n",
    "    y_pred_proba = model.predict_proba(x_test)[::,1]\n",
    "    fpr, tpr, _ = metrics.roc_curve(y_test, y_pred_proba)\n",
    "    auc = metrics.roc_auc_score(y_test, y_pred_proba)\n",
    "    \n",
    "    # display confussion matrix\n",
    "    cm = metrics.confusion_matrix(y_test, y_pred)\n",
    "\n",
    "    return {'acc': acc, 'prec': prec, 'rec': rec, 'f1': f1,  \n",
    "            'fpr': fpr, 'tpr': tpr, 'auc': auc, 'cm': cm}"
   ]
  },
  {
   "cell_type": "code",
   "execution_count": 20,
   "id": "50ad9c09-e418-4b36-80cb-0b17dd7024a8",
   "metadata": {},
   "outputs": [
    {
     "data": {
      "text/plain": [
       "DecisionTreeClassifier(random_state=0)"
      ]
     },
     "execution_count": 20,
     "metadata": {},
     "output_type": "execute_result"
    },
    {
     "name": "stdout",
     "output_type": "stream",
     "text": [
      "Accuracy: 0.6300940438871473\n",
      "Precision: 0.6124031007751938\n",
      "Recall: 0.5973534971644613\n",
      "F1 Score: 0.6047846889952152\n",
      "Area Under Curve: 0.6284639826247838\n",
      "Confusion Matrix:\n",
      " [[775 400]\n",
      " [426 632]]\n"
     ]
    }
   ],
   "source": [
    "from sklearn import tree\n",
    "\n",
    "# Building Decision Tree model \n",
    "dtc = tree.DecisionTreeClassifier(random_state=0)\n",
    "dtc.fit(X_train, y_train)\n",
    "\n",
    "# Evaluate Model\n",
    "dtc_eval = evaluate_model(dtc, X_test, y_test)\n",
    "\n",
    "# Print result\n",
    "print('Accuracy:', dtc_eval['acc'])\n",
    "print('Precision:', dtc_eval['prec'])\n",
    "print('Recall:', dtc_eval['rec'])\n",
    "print('F1 Score:', dtc_eval['f1'])\n",
    "#print('Cohens Kappa Score:', dtc_eval['kappa'])\n",
    "print('Area Under Curve:', dtc_eval['auc'])\n",
    "print('Confusion Matrix:\\n', dtc_eval['cm'])"
   ]
  },
  {
   "cell_type": "code",
   "execution_count": 21,
   "id": "b5a27070-ba26-4559-a26c-f9ae5482e8b8",
   "metadata": {},
   "outputs": [
    {
     "data": {
      "text/plain": [
       "RandomForestClassifier(random_state=0)"
      ]
     },
     "execution_count": 21,
     "metadata": {},
     "output_type": "execute_result"
    }
   ],
   "source": [
    "# random forest\n",
    "\n",
    "from sklearn.ensemble import RandomForestClassifier\n",
    "\n",
    "rf = RandomForestClassifier(random_state=0)\n",
    "rf.fit(X_train, y_train)\n",
    "\n",
    "rf_eval = evaluate_model(rf, X_test, y_test)"
   ]
  },
  {
   "cell_type": "code",
   "execution_count": 22,
   "id": "c8448ea2-18bb-401d-9ad1-b1c452b585ca",
   "metadata": {},
   "outputs": [
    {
     "data": {
      "text/plain": [
       "GaussianNB()"
      ]
     },
     "execution_count": 22,
     "metadata": {},
     "output_type": "execute_result"
    }
   ],
   "source": [
    "# Naive Bayes\n",
    "\n",
    "from sklearn.naive_bayes import GaussianNB\n",
    "\n",
    "nb = GaussianNB()\n",
    "nb.fit(X_train, y_train)\n",
    "\n",
    "nb_eval = evaluate_model(nb, X_test, y_test)"
   ]
  },
  {
   "cell_type": "code",
   "execution_count": 23,
   "id": "54c3a31f-0b68-44a2-bca4-f3bc4957be5f",
   "metadata": {},
   "outputs": [
    {
     "data": {
      "text/plain": [
       "KNeighborsClassifier()"
      ]
     },
     "execution_count": 23,
     "metadata": {},
     "output_type": "execute_result"
    }
   ],
   "source": [
    "# K-Nearest Neighbors\n",
    "\n",
    "from sklearn.neighbors import KNeighborsClassifier\n",
    "\n",
    "knn = KNeighborsClassifier()\n",
    "knn.fit(X_train, y_train)\n",
    "\n",
    "knn_eval = evaluate_model (knn, X_test, y_test)"
   ]
  },
  {
   "cell_type": "code",
   "execution_count": 24,
   "id": "3c1f3404-a553-492b-b329-cb2553eac274",
   "metadata": {},
   "outputs": [
    {
     "data": {
      "text/plain": [
       "LogisticRegression()"
      ]
     },
     "execution_count": 24,
     "metadata": {},
     "output_type": "execute_result"
    }
   ],
   "source": [
    "# I also add logistic regression\n",
    "\n",
    "from sklearn.linear_model import LogisticRegression\n",
    "\n",
    "lr = LogisticRegression()\n",
    "lr.fit(X_train, y_train)\n",
    "\n",
    "lr_eval = evaluate_model(lr, X_test, y_test)"
   ]
  },
  {
   "cell_type": "code",
   "execution_count": 25,
   "id": "2d1f68b8-a207-4a41-a9af-38dcdbc578ec",
   "metadata": {},
   "outputs": [
    {
     "data": {
      "text/plain": [
       "Text(0.5, 0.98, 'Model Comparison')"
      ]
     },
     "execution_count": 25,
     "metadata": {},
     "output_type": "execute_result"
    },
    {
     "data": {
      "text/plain": [
       "<BarContainer object of 4 artists>"
      ]
     },
     "execution_count": 25,
     "metadata": {},
     "output_type": "execute_result"
    },
    {
     "data": {
      "text/plain": [
       "<BarContainer object of 4 artists>"
      ]
     },
     "execution_count": 25,
     "metadata": {},
     "output_type": "execute_result"
    },
    {
     "data": {
      "text/plain": [
       "<BarContainer object of 4 artists>"
      ]
     },
     "execution_count": 25,
     "metadata": {},
     "output_type": "execute_result"
    },
    {
     "data": {
      "text/plain": [
       "<BarContainer object of 4 artists>"
      ]
     },
     "execution_count": 25,
     "metadata": {},
     "output_type": "execute_result"
    },
    {
     "data": {
      "text/plain": [
       "<BarContainer object of 4 artists>"
      ]
     },
     "execution_count": 25,
     "metadata": {},
     "output_type": "execute_result"
    },
    {
     "data": {
      "text/plain": [
       "Text(0.5, 0, 'Metrics')"
      ]
     },
     "execution_count": 25,
     "metadata": {},
     "output_type": "execute_result"
    },
    {
     "data": {
      "text/plain": [
       "[<matplotlib.axis.XTick at 0x2cf4b0c8310>,\n",
       " <matplotlib.axis.XTick at 0x2cf4b0c85b0>,\n",
       " <matplotlib.axis.XTick at 0x2cf4b0c20a0>,\n",
       " <matplotlib.axis.XTick at 0x2cf4b437d00>]"
      ]
     },
     "execution_count": 25,
     "metadata": {},
     "output_type": "execute_result"
    },
    {
     "data": {
      "text/plain": [
       "[Text(0.22499999999999998, 0, 'Accuracy'),\n",
       " Text(1.225, 0, 'Precision'),\n",
       " Text(2.225, 0, 'Recall'),\n",
       " Text(3.225, 0, 'F1')]"
      ]
     },
     "execution_count": 25,
     "metadata": {},
     "output_type": "execute_result"
    },
    {
     "data": {
      "text/plain": [
       "Text(0, 0.5, 'Score')"
      ]
     },
     "execution_count": 25,
     "metadata": {},
     "output_type": "execute_result"
    },
    {
     "data": {
      "text/plain": [
       "(0.0, 1.0)"
      ]
     },
     "execution_count": 25,
     "metadata": {},
     "output_type": "execute_result"
    },
    {
     "data": {
      "text/plain": [
       "Text(0.5, 1.0, 'Evaluation Metrics')"
      ]
     },
     "execution_count": 25,
     "metadata": {},
     "output_type": "execute_result"
    },
    {
     "data": {
      "text/plain": [
       "<matplotlib.legend.Legend at 0x2cf4b437ee0>"
      ]
     },
     "execution_count": 25,
     "metadata": {},
     "output_type": "execute_result"
    },
    {
     "data": {
      "text/plain": [
       "[<matplotlib.lines.Line2D at 0x2cf4b42e100>]"
      ]
     },
     "execution_count": 25,
     "metadata": {},
     "output_type": "execute_result"
    },
    {
     "data": {
      "text/plain": [
       "[<matplotlib.lines.Line2D at 0x2cf4b42e6a0>]"
      ]
     },
     "execution_count": 25,
     "metadata": {},
     "output_type": "execute_result"
    },
    {
     "data": {
      "text/plain": [
       "[<matplotlib.lines.Line2D at 0x2cf4b42ea30>]"
      ]
     },
     "execution_count": 25,
     "metadata": {},
     "output_type": "execute_result"
    },
    {
     "data": {
      "text/plain": [
       "[<matplotlib.lines.Line2D at 0x2cf4b42edc0>]"
      ]
     },
     "execution_count": 25,
     "metadata": {},
     "output_type": "execute_result"
    },
    {
     "data": {
      "text/plain": [
       "[<matplotlib.lines.Line2D at 0x2cf4b4350d0>]"
      ]
     },
     "execution_count": 25,
     "metadata": {},
     "output_type": "execute_result"
    },
    {
     "data": {
      "text/plain": [
       "Text(0.5, 0, 'False Positive Rate')"
      ]
     },
     "execution_count": 25,
     "metadata": {},
     "output_type": "execute_result"
    },
    {
     "data": {
      "text/plain": [
       "Text(0, 0.5, 'True Positive Rate')"
      ]
     },
     "execution_count": 25,
     "metadata": {},
     "output_type": "execute_result"
    },
    {
     "data": {
      "text/plain": [
       "Text(0.5, 1.0, 'ROC Curve')"
      ]
     },
     "execution_count": 25,
     "metadata": {},
     "output_type": "execute_result"
    },
    {
     "data": {
      "text/plain": [
       "<matplotlib.legend.Legend at 0x2cf4b435370>"
      ]
     },
     "execution_count": 25,
     "metadata": {},
     "output_type": "execute_result"
    },
    {
     "data": {
      "image/png": "[encoded data removed]",
      "text/plain": [
       "<Figure size 1008x504 with 2 Axes>"
      ]
     },
     "metadata": {},
     "output_type": "display_data"
    }
   ],
   "source": [
    "# Intitialize figure with two plots\n",
    "fig, (ax1, ax2) = plt.subplots(1, 2)\n",
    "fig.suptitle('Model Comparison', fontsize=16, fontweight='bold')\n",
    "fig.set_figheight(7)\n",
    "fig.set_figwidth(14)\n",
    "fig.set_facecolor('white')\n",
    "\n",
    "# First plot\n",
    "## set bar size\n",
    "barWidth = 0.15\n",
    "dtc_score = [dtc_eval['acc'], dtc_eval['prec'], dtc_eval['rec'], dtc_eval['f1']]\n",
    "rf_score = [rf_eval['acc'], rf_eval['prec'], rf_eval['rec'], rf_eval['f1']]\n",
    "nb_score = [nb_eval['acc'], nb_eval['prec'], nb_eval['rec'], nb_eval['f1']]\n",
    "knn_score = [knn_eval['acc'], knn_eval['prec'], knn_eval['rec'], knn_eval['f1']]\n",
    "lr_score = [lr_eval['acc'], lr_eval['prec'], lr_eval['rec'], lr_eval['f1']]\n",
    "\n",
    "## Set position of bar on X axis\n",
    "r1 = np.arange(len(dtc_score))\n",
    "r2 = [x + barWidth for x in r1]\n",
    "r3 = [x + barWidth for x in r2]\n",
    "r4 = [x + barWidth for x in r3]\n",
    "r5 = [x + barWidth for x in r4]\n",
    "\n",
    "## Make the plot\n",
    "ax1.bar(r1, dtc_score, width=barWidth, edgecolor='white', label='Decision Tree')\n",
    "ax1.bar(r2, rf_score, width=barWidth, edgecolor='white', label='Random Forest')\n",
    "ax1.bar(r3, nb_score, width=barWidth, edgecolor='white', label='Naive Bayes')\n",
    "ax1.bar(r4, knn_score, width=barWidth, edgecolor='white', label='K-Nearest Neighbors')\n",
    "ax1.bar(r5, lr_score, width=barWidth, edgecolor='white', label='Logistic Regression')\n",
    "\n",
    "## Configure x and y axis\n",
    "ax1.set_xlabel('Metrics', fontweight='bold')\n",
    "labels = ['Accuracy', 'Precision', 'Recall', 'F1']\n",
    "ax1.set_xticks([r + (barWidth * 1.5) for r in range(len(dtc_score))], )\n",
    "ax1.set_xticklabels(labels)\n",
    "ax1.set_ylabel('Score', fontweight='bold')\n",
    "ax1.set_ylim(0, 1)\n",
    "\n",
    "## Create legend & title\n",
    "ax1.set_title('Evaluation Metrics', fontsize=14, fontweight='bold')\n",
    "ax1.legend()\n",
    "\n",
    "# Second plot\n",
    "## Comparing ROC Curve\n",
    "ax2.plot(dtc_eval['fpr'], dtc_eval['tpr'], label='Decision Tree, auc = {:0.5f}'.format(dtc_eval['auc']))\n",
    "ax2.plot(rf_eval['fpr'], rf_eval['tpr'], label='Random Forest, auc = {:0.5f}'.format(rf_eval['auc']))\n",
    "ax2.plot(nb_eval['fpr'], nb_eval['tpr'], label='Naive Bayes, auc = {:0.5f}'.format(nb_eval['auc']))\n",
    "ax2.plot(knn_eval['fpr'], knn_eval['tpr'], label='K-Nearest Nieghbor, auc = {:0.5f}'.format(knn_eval['auc']))\n",
    "ax2.plot(lr_eval['fpr'], lr_eval['tpr'], label='Logistic Regression, auc = {:0.5f}'.format(lr_eval['auc']))\n",
    "\n",
    "## Configure x and y axis\n",
    "ax2.set_xlabel('False Positive Rate', fontweight='bold')\n",
    "ax2.set_ylabel('True Positive Rate', fontweight='bold')\n",
    "\n",
    "## Create legend & title\n",
    "ax2.set_title('ROC Curve', fontsize=14, fontweight='bold')\n",
    "ax2.legend(loc=4)\n",
    "\n",
    "plt.show()"
   ]
  },
  {
   "cell_type": "markdown",
   "id": "d737927b-afa5-4063-9c30-dbc5d36161a0",
   "metadata": {},
   "source": [
    "From the figures above we can see that our Random Forest model tops the other models in 5 of the 6 metrics we evaluate, except precision. So we can assume that Random Forest is the right choice to solve our problem.  --> <font color=purple> I add Logistic Regression, and found it is just slightly worse than Random Foreast</font>"
   ]
  },
  {
   "cell_type": "code",
   "execution_count": null,
   "id": "f1e0aea0-57f6-4814-96c5-9ae9c4769c4b",
   "metadata": {},
   "outputs": [],
   "source": []
  },
  {
   "cell_type": "markdown",
   "id": "dddf495b-23d2-48ff-8333-554cffbf8158",
   "metadata": {},
   "source": [
    "### Model Optimisation\n",
    "\n",
    "to optimise our RandomForest model by tuning the hyper parameters available from the scikit-learn library\n",
    "\n",
    "**Tuning Hyperparameter with GridSearchCV**\n",
    "\n",
    "We will use GridSearchCV functionality from sklearn to find the optimal parameter for our model. We will provide our baseline model (named rf_grids), scoring method (in our case we will use recall as explained before), and also various parameters value we want to try with our model. The GridSearchCV function will then **iterate through each parameters combination to find the best scoring parameters**.\n",
    "\n",
    "This function also allow us to use **cross validation** to train our model, where on each iteration our data will be divided into 5 (the number are adjustable from the parameter) fold. The models then will be trained on 4/5 fold of the data leaving the final fold as validation data, this process will be repeated for 5 times until all of our folds are used as validation data.\n",
    "\n",
    "To see the result of which parameters combination works best we can access the **```best_params_``` attribute** from our grid search object.\n",
    "\n",
    "_Note: The more combination provided, the longer the process will take. -- really takes a while; Alternatively, you can also try ```RandomizedSearchCV``` to only randomly select specified number of parameters which can result in faster running time._\n"
   ]
  },
  {
   "cell_type": "markdown",
   "id": "a5b6ba65-1105-497e-9763-2ace93af52da",
   "metadata": {},
   "source": [
    "<font color=purple>GridSearchCV take a quite long time </font>\n",
    "\n",
    "```\n",
    "from sklearn.model_selection import GridSearchCV\n",
    "\n",
    "# create the parameter grid based on the results of ranom search\n",
    "param_grid = {\n",
    "    'max_depth': [50, 80, 100],\n",
    "    'max_features': [2, 3, 4],\n",
    "    'min_samples_leaf': [3, 4, 5],\n",
    "    'min_samples_split': [8, 10, 12],\n",
    "    'n_estimators': [100, 300, 500, 750, 1000]\n",
    "}\n",
    "\n",
    "# create a base model\n",
    "rf_grids = RandomForestClassifier(random_state=0)\n",
    "\n",
    "# Initiate the grid search model\n",
    "grid_search = GridSearchCV(estimator=rf_grids, param_grid=param_grid, scoring='recall',\n",
    "                          cv=5, n_jobs=-1, verbose=2)\n",
    "\n",
    "# fit the grid search to the data\n",
    "grid_search.fit(X_train, y_train)\n",
    "\n",
    "grid_search.best_params_\n",
    "```"
   ]
  },
  {
   "cell_type": "code",
   "execution_count": null,
   "id": "f16e443c-01ae-4730-86c9-d0d7e4996a29",
   "metadata": {},
   "outputs": [],
   "source": []
  },
  {
   "cell_type": "markdown",
   "id": "3b526220-5aff-44d3-822e-8b2395dffd40",
   "metadata": {},
   "source": [
    "### Evaluating Optimised Model\n",
    "\n",
    "After finding the best parameter for the model we can access the best_estimator_ attribute of the GridSearchCV object to save our optimised model into variable called best_grid. We will calculate the 6 evaluation metrics using our helper function to compare it with our base model on the next step."
   ]
  },
  {
   "cell_type": "markdown",
   "id": "b1b11c87-3a07-4602-8490-03e998b35a40",
   "metadata": {},
   "source": [
    "```\n",
    "# select best model with best fit\n",
    "\n",
    "best_grid = grid_search.best_estimator_\n",
    "\n",
    "# evaluate model\n",
    "best_grid_eval = evaluate_model(best_grid, X_test, y_test)\n",
    "\n",
    "# Print result\n",
    "print('Accuracy:', best_grid_eval['acc'])\n",
    "print('Precision:', best_grid_eval['prec'])\n",
    "print('Recall:', best_grid_eval['rec'])\n",
    "print('F1 Score:', best_grid_eval['f1'])\n",
    "print('Area Under Curve:', best_grid_eval['auc'])\n",
    "print('Confusion Matrix:\\n', best_grid_eval['cm'])\n",
    "```"
   ]
  },
  {
   "cell_type": "code",
   "execution_count": null,
   "id": "c1037ff3-a102-42f1-b855-f6a3ea719859",
   "metadata": {},
   "outputs": [],
   "source": []
  },
  {
   "cell_type": "markdown",
   "id": "51ce49a7-7925-4263-b09e-edd77aee421f",
   "metadata": {},
   "source": [
    "## Save Output\n",
    "\n",
    "We have our model, what next? As data scientist it’s important to be able to develop a model with good re-usability. \n",
    "\n",
    "- Making predictions and save it into a csv file\n",
    "- Saving model: using joblib so you can use it in production or just save it for later use without having to repeat the whole process. This model can then be loaded on another machine to make new prediction without doing the whole training process again."
   ]
  },
  {
   "cell_type": "markdown",
   "id": "2be6c7db-1249-43a5-9816-3d257bee8509",
   "metadata": {},
   "source": [
    "```\n",
    "# save prediction to csv file\n",
    "\n",
    "df['deposit_pred'] = rf.predict(feature)\n",
    "df['deposit_pred'] = df['deposit_pred'].apply(lambda x: 'yes' if x==0 else 'no')\n",
    "\n",
    "df.to_csv('deposit_prediction.csv', index=False)\n",
    "```"
   ]
  },
  {
   "cell_type": "markdown",
   "id": "6afbc743-ce71-446d-af2d-f3dcf3911a8c",
   "metadata": {},
   "source": [
    "```\n",
    "from joblib import dump, load\n",
    "\n",
    "# saving model\n",
    "dump(rf, 'bank_deposit_classification.joblib')\n",
    "\n",
    "# loading model\n",
    "clf = load('bank_deposit_classification.joblib')\n",
    "```"
   ]
  },
  {
   "cell_type": "code",
   "execution_count": null,
   "id": "18986c48-8250-4031-8cfb-e052f2ac1075",
   "metadata": {},
   "outputs": [],
   "source": []
  },
  {
   "cell_type": "code",
   "execution_count": null,
   "id": "d625ab76-d9d7-4abb-8263-62e963391704",
   "metadata": {},
   "outputs": [],
   "source": []
  },
  {
   "cell_type": "markdown",
   "id": "5a107c8e-def5-45d1-9159-9ec4e38216cf",
   "metadata": {},
   "source": [
    "## Logistic Regression\n",
    "\n",
    "Logistic Regression is a good starting point"
   ]
  },
  {
   "cell_type": "code",
   "execution_count": 36,
   "id": "6a7e8ea7-5520-4354-ad24-2d50a4a0fc58",
   "metadata": {},
   "outputs": [],
   "source": [
    "df = pd.read_csv('https://raw.githubusercontent.com/rafiag/DTI2020/main/data/bank.csv')\n",
    "df.drop(columns='duration', inplace=True)"
   ]
  },
  {
   "cell_type": "code",
   "execution_count": 37,
   "id": "c1848da3-8d53-4c0c-8195-fd5d826c1082",
   "metadata": {},
   "outputs": [],
   "source": [
    "# dummy variables\n",
    "df['deposit'] = np.where(df['deposit']=='yes', 1, 0)\n",
    "\n",
    "cat_cols = ['job', 'marital', 'education', 'default', 'housing', 'loan', 'contact', 'month', 'poutcome']\n",
    "df = pd.get_dummies(df, columns=cat_cols, drop_first=True)   "
   ]
  },
  {
   "cell_type": "code",
   "execution_count": 38,
   "id": "0e8b0a0f-74fa-4648-b6bb-3691233e49d0",
   "metadata": {},
   "outputs": [
    {
     "name": "stdout",
     "output_type": "stream",
     "text": [
      "Train dataset: (8929, 41) (8929,)\n",
      "Test dataset: (2233, 41) (2233,)\n"
     ]
    }
   ],
   "source": [
    "# train-test-split\n",
    "\n",
    "y = df.deposit\n",
    "X = df.drop('deposit', axis=1)\n",
    "\n",
    "X_train, X_test, y_train, y_test = train_test_split(X, y, test_size=0.2, random_state=0, stratify=y, shuffle=True)\n",
    "\n",
    "print(\"Train dataset:\", X_train.shape, y_train.shape)\n",
    "print(\"Test dataset:\", X_test.shape, y_test.shape)\n"
   ]
  },
  {
   "cell_type": "code",
   "execution_count": 39,
   "id": "6365dee9-174a-4d90-92ed-2bed9559ad56",
   "metadata": {},
   "outputs": [
    {
     "name": "stderr",
     "output_type": "stream",
     "text": [
      "C:\\Users\\yshen\\Anaconda3\\lib\\site-packages\\pandas\\core\\frame.py:3607: SettingWithCopyWarning: \n",
      "A value is trying to be set on a copy of a slice from a DataFrame.\n",
      "Try using .loc[row_indexer,col_indexer] = value instead\n",
      "\n",
      "See the caveats in the documentation: https://pandas.pydata.org/pandas-docs/stable/user_guide/indexing.html#returning-a-view-versus-a-copy\n",
      "  self._set_item(key, value)\n",
      "C:\\Users\\yshen\\Anaconda3\\lib\\site-packages\\pandas\\core\\frame.py:3607: SettingWithCopyWarning: \n",
      "A value is trying to be set on a copy of a slice from a DataFrame.\n",
      "Try using .loc[row_indexer,col_indexer] = value instead\n",
      "\n",
      "See the caveats in the documentation: https://pandas.pydata.org/pandas-docs/stable/user_guide/indexing.html#returning-a-view-versus-a-copy\n",
      "  self._set_item(key, value)\n"
     ]
    }
   ],
   "source": [
    "# feature scaling: standardization numerical variable\n",
    "\n",
    "num_cols = ['age', 'balance', 'day', 'campaign', 'pdays', 'previous'] \n",
    "\n",
    "std_scaler = StandardScaler().fit(X_train[num_cols])\n",
    "X_train[num_cols] = std_scaler.transform(X_train[num_cols])\n",
    "\n",
    "X_test[num_cols] = std_scaler.transform(X_test[num_cols])"
   ]
  },
  {
   "cell_type": "code",
   "execution_count": 40,
   "id": "b1fcba6a-19ea-4d13-af21-4170f8e83b26",
   "metadata": {},
   "outputs": [],
   "source": [
    "# fix imbalanced class issue\n",
    "\n",
    "smote = SMOTE(random_state = 42)\n",
    "X_train_smote, y_train_smote = smote.fit_resample(X_train, y_train)"
   ]
  },
  {
   "cell_type": "code",
   "execution_count": 41,
   "id": "db7ac68a-f5af-43c3-9efc-714d0528fa8e",
   "metadata": {},
   "outputs": [
    {
     "data": {
      "text/plain": [
       "SelectFromModel(estimator=LogisticRegression(C=1, penalty='l1',\n",
       "                                             solver='liblinear'))"
      ]
     },
     "execution_count": 41,
     "metadata": {},
     "output_type": "execute_result"
    },
    {
     "name": "stdout",
     "output_type": "stream",
     "text": [
      "N of features selected: 37\n"
     ]
    },
    {
     "data": {
      "text/plain": [
       "Index(['age', 'balance', 'day', 'campaign', 'pdays', 'previous',\n",
       "       'job_blue-collar', 'job_entrepreneur', 'job_housemaid',\n",
       "       'job_management', 'job_retired', 'job_self-employed', 'job_services',\n",
       "       'job_student', 'job_technician', 'job_unknown', 'marital_married',\n",
       "       'marital_single', 'education_secondary', 'education_tertiary',\n",
       "       'housing_yes', 'loan_yes', 'contact_telephone', 'contact_unknown',\n",
       "       'month_aug', 'month_dec', 'month_feb', 'month_jan', 'month_jul',\n",
       "       'month_jun', 'month_mar', 'month_may', 'month_nov', 'month_oct',\n",
       "       'month_sep', 'poutcome_other', 'poutcome_success'],\n",
       "      dtype='object')"
      ]
     },
     "execution_count": 41,
     "metadata": {},
     "output_type": "execute_result"
    }
   ],
   "source": [
    "# feature selection with embeded method\n",
    "\n",
    "embeded_selector = SelectFromModel(LogisticRegression(C=1, penalty=\"l1\", solver='liblinear'))  \n",
    "\n",
    "embeded_selector.fit(X_train_smote, y_train_smote)\n",
    "\n",
    "embeded_support = embeded_selector.get_support()\n",
    "print('N of features selected:', embeded_selector.get_support().sum())\n",
    "\n",
    "embeded_feature = X_train.columns[(embeded_selector.get_support())]\n",
    "embeded_feature"
   ]
  },
  {
   "cell_type": "code",
   "execution_count": 42,
   "id": "04250a3e-5491-4b8d-bb39-42fe3a5dac0a",
   "metadata": {},
   "outputs": [],
   "source": [
    "# selected features only\n",
    "\n",
    "features_selected = embeded_feature.tolist()\n",
    "\n",
    "X_train = X_train[features_selected]\n",
    "X_test = X_test[features_selected]"
   ]
  },
  {
   "cell_type": "code",
   "execution_count": 43,
   "id": "2b6e6f37-45d1-4120-8b06-1a91300935ec",
   "metadata": {},
   "outputs": [
    {
     "name": "stdout",
     "output_type": "stream",
     "text": [
      "Optimization terminated successfully.\n",
      "         Current function value: 0.570200\n",
      "         Iterations 6\n"
     ]
    },
    {
     "name": "stderr",
     "output_type": "stream",
     "text": [
      "C:\\Users\\yshen\\Anaconda3\\lib\\site-packages\\statsmodels\\tsa\\tsatools.py:142: FutureWarning: In a future version of pandas all arguments of concat except for the argument 'objs' will be keyword-only\n",
      "  x = pd.concat(x[::order], 1)\n"
     ]
    }
   ],
   "source": [
    "# statsmodels\n",
    "\n",
    "import statsmodels.api as sm\n",
    "\n",
    "X_train_cons = sm.add_constant(X_train)\n",
    "reg_log = sm.Logit(y_train, X_train_cons)\n",
    "results_log = reg_log.fit()\n",
    "\n",
    "# results_log.summary()"
   ]
  },
  {
   "cell_type": "markdown",
   "id": "491eca66-79dc-4ba3-a587-0ea018cd4839",
   "metadata": {},
   "source": [
    "<font color=purple> _Variables normalized, then how to interpret the coefficients?_ </font>"
   ]
  },
  {
   "cell_type": "code",
   "execution_count": 44,
   "id": "933527d5-d7bd-44f2-9866-be007ae4fbb7",
   "metadata": {},
   "outputs": [],
   "source": [
    "from sklearn.linear_model import LogisticRegression\n",
    "from sklearn import metrics\n",
    "\n",
    "model = LogisticRegression()\n",
    "result = model.fit(X_train, y_train)\n",
    "\n",
    "pred = model.predict(X_test)"
   ]
  },
  {
   "cell_type": "code",
   "execution_count": 45,
   "id": "81c35d64-1828-49da-9541-810e0aa201ad",
   "metadata": {},
   "outputs": [
    {
     "name": "stdout",
     "output_type": "stream",
     "text": [
      "accuracy: 0.7115987460815048\n",
      "precision: 0.7458432304038005\n",
      "recall: 0.5935727788279773\n",
      "F1 score: 0.6610526315789473\n"
     ]
    }
   ],
   "source": [
    "acc = metrics.accuracy_score(y_test, pred)\n",
    "prec = metrics.precision_score(y_test, pred)\n",
    "rec = metrics.recall_score(y_test, pred)\n",
    "f1 = metrics.f1_score(y_test, pred)\n",
    "\n",
    "print(\"accuracy:\", acc)\n",
    "print(\"precision:\", prec)\n",
    "print(\"recall:\", rec)\n",
    "print(\"F1 score:\", f1)"
   ]
  },
  {
   "cell_type": "code",
   "execution_count": 46,
   "id": "c1e4a86e-13fe-47c1-a790-3fa1e7a84cf4",
   "metadata": {},
   "outputs": [
    {
     "name": "stdout",
     "output_type": "stream",
     "text": [
      "[[961 214]\n",
      " [430 628]]\n"
     ]
    },
    {
     "data": {
      "text/plain": [
       "Text(0.5, 1.0, 'Seaborn Confusion Matrix with labels\\n\\n')"
      ]
     },
     "execution_count": 46,
     "metadata": {},
     "output_type": "execute_result"
    },
    {
     "data": {
      "text/plain": [
       "Text(0.5, 12.5, '\\nPredicted Values')"
      ]
     },
     "execution_count": 46,
     "metadata": {},
     "output_type": "execute_result"
    },
    {
     "data": {
      "text/plain": [
       "Text(30.5, 0.5, 'Actual Values ')"
      ]
     },
     "execution_count": 46,
     "metadata": {},
     "output_type": "execute_result"
    },
    {
     "data": {
      "text/plain": [
       "[Text(0.5, 0, 'False'), Text(1.5, 0, 'True')]"
      ]
     },
     "execution_count": 46,
     "metadata": {},
     "output_type": "execute_result"
    },
    {
     "data": {
      "text/plain": [
       "[Text(0, 0.5, 'False'), Text(0, 1.5, 'True')]"
      ]
     },
     "execution_count": 46,
     "metadata": {},
     "output_type": "execute_result"
    },
    {
     "data": {
      "image/png": "[encoded data removed]",
      "text/plain": [
       "<Figure size 432x288 with 2 Axes>"
      ]
     },
     "metadata": {
      "needs_background": "light"
     },
     "output_type": "display_data"
    }
   ],
   "source": [
    "# confusion matrix\n",
    "cf_matrix = metrics.confusion_matrix(y_test, pred)\n",
    "print(cf_matrix)\n",
    "\n",
    "ax = sns.heatmap(cf_matrix, annot=True, cmap='Blues', fmt='d')\n",
    "# scientic notation: the param fmt='.2g' is being applied because you've set annot=True\n",
    "\n",
    "ax.set_title('Seaborn Confusion Matrix with labels\\n\\n');\n",
    "ax.set_xlabel('\\nPredicted Values')\n",
    "ax.set_ylabel('Actual Values ');\n",
    "\n",
    "## Ticket labels - List must be in alphabetical order\n",
    "ax.xaxis.set_ticklabels(['False','True'])\n",
    "ax.yaxis.set_ticklabels(['False','True'])\n",
    "\n",
    "plt.show()"
   ]
  },
  {
   "cell_type": "markdown",
   "id": "41609553-07a5-4a16-96ff-14bf3f4ace43",
   "metadata": {},
   "source": [
    "_More on sns.heatmap() like showing number, percentage and labels like TP_, https://www.stackvidhya.com/plot-confusion-matrix-in-python-and-why/"
   ]
  },
  {
   "cell_type": "code",
   "execution_count": 47,
   "id": "58f4107d-25b9-41a8-8865-ef214d349426",
   "metadata": {},
   "outputs": [
    {
     "data": {
      "text/plain": [
       "[<matplotlib.lines.Line2D at 0x2cf4c507310>]"
      ]
     },
     "execution_count": 47,
     "metadata": {},
     "output_type": "execute_result"
    },
    {
     "data": {
      "image/png": "[encoded data removed]",
      "text/plain": [
       "<Figure size 432x288 with 1 Axes>"
      ]
     },
     "metadata": {
      "needs_background": "light"
     },
     "output_type": "display_data"
    }
   ],
   "source": [
    "# calcualte Area Under Curve (AUC)\n",
    "\n",
    "y_pred_proba = model.predict_proba(X_test)[::,1]\n",
    "fpr, tpr, _ = metrics.roc_curve(y_test, y_pred_proba)\n",
    "auc = metrics.roc_auc_score(y_test, y_pred_proba)\n",
    "\n",
    "#plt.plot(dtc_eval['fpr'], dtc_eval['tpr'], label='Decision Tree, auc = {:0.5f}'.format(dtc_eval['auc']))\n",
    "plt.plot(fpr, tpr)"
   ]
  },
  {
   "cell_type": "code",
   "execution_count": null,
   "id": "0ef75cc0-e4ee-4fec-97fa-1b0705730191",
   "metadata": {},
   "outputs": [],
   "source": []
  },
  {
   "cell_type": "markdown",
   "id": "63745db3-cf29-4a7a-82aa-f0008492c723",
   "metadata": {},
   "source": [
    "<font color=purple>With selected features if X_train becomes ndarray </font>\n",
    "```\n",
    "# sometimes after feature scaling, X_train becomes ndarray, so we have to select with index\n",
    "\n",
    "features_selected = ['age', 'undergrad_gpa', 'conditional_admit', 'gender_Male',\n",
    "       'gender_Other', 'track_Full Time', 'track_Part Time']\n",
    "idx = X_train.columns.get_indexer(features_selected)\n",
    "print(idx)\n",
    "\n",
    "X_train = X_train_std_smote[:, idx]\n",
    "y_train = y_train_smote\n",
    "\n",
    "X_test = X_test[features_selected]\n",
    "\n",
    "# then create a new dataFrame to train model\n",
    "X_train_df = pd.DataFrame(X_train, columns=features_selected)\n",
    "X_train_df = sm.add_constant(X_train_df)\n",
    "reg_log = sm.Logit(y_train, X_train_df)\n",
    "```"
   ]
  },
  {
   "cell_type": "code",
   "execution_count": null,
   "id": "9573280a-958f-499a-bfce-95082cf28fc1",
   "metadata": {},
   "outputs": [],
   "source": []
  }
 ],
 "metadata": {
  "kernelspec": {
   "display_name": "Python 3 (ipykernel)",
   "language": "python",
   "name": "python3"
  },
  "language_info": {
   "codemirror_mode": {
    "name": "ipython",
    "version": 3
   },
   "file_extension": ".py",
   "mimetype": "text/x-python",
   "name": "python",
   "nbconvert_exporter": "python",
   "pygments_lexer": "ipython3",
   "version": "3.8.10"
  }
 },
 "nbformat": 4,
 "nbformat_minor": 5
}
